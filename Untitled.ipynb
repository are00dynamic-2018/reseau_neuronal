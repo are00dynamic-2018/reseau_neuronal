{
 "cells": [
  {
   "cell_type": "code",
   "execution_count": 4,
   "metadata": {
    "collapsed": true
   },
   "outputs": [],
   "source": [
    "def diminution (t):\n",
    "    \"soit res renvoie une des valurs de A si le temps n'est pas trop grand, sinon renvois 0 si t est beaucoup trop élevé\"\n",
    "    A = [1, 0.7, 0.55, 0.1, 0.04]\n",
    "    if (t<=len (A)):\n",
    "        return A[t]\n",
    "    else:\n",
    "        return 0"
   ]
  },
  {
   "cell_type": "code",
   "execution_count": 18,
   "metadata": {
    "collapsed": false
   },
   "outputs": [],
   "source": [
    "def stockage (y):\n",
    "    \"si y est dans A alors il renvoie A[i+1]sinon 0\"\n",
    "    A = [1, 0.7, 0.55, 0.1, 0.04]\n",
    "    i=1\n",
    "    if (y==0.04):\n",
    "        return 0\n",
    "    for i in range(0,len (A)+1):\n",
    "        if (A[i-1]==y):\n",
    "            return A[i]\n",
    "    return 0\n",
    "        "
   ]
  },
  {
   "cell_type": "code",
   "execution_count": 209,
   "metadata": {
    "collapsed": false,
    "scrolled": true
   },
   "outputs": [],
   "source": [
    "import numpy as np\n",
    "\n",
    "\n",
    "def matrice_c ():\n",
    "    b=np.ones((4,4),float)+np.eye(4,4)\n",
    "    return b\n",
    "        "
   ]
  },
  {
   "cell_type": "code",
   "execution_count": 210,
   "metadata": {
    "collapsed": false
   },
   "outputs": [],
   "source": [
    "import random "
   ]
  },
  {
   "cell_type": "code",
   "execution_count": 211,
   "metadata": {
    "collapsed": false
   },
   "outputs": [],
   "source": [
    "import random\n",
    "\n",
    "def matrice_c ():\n",
    "    a=np.eye(9,9)\n",
    "    list_finale=[]\n",
    "    for i in a:\n",
    "        sous_list=[]\n",
    "        for o in i:\n",
    "            if (o==0):\n",
    "                o=random.randint(0,1)\n",
    "                sous_list.append(o)\n",
    "            elif(o==1):\n",
    "                o=0\n",
    "                sous_list.append(o)\n",
    "        list_finale.append(sous_list)\n",
    "        \n",
    "    return list_finale\n",
    "   "
   ]
  },
  {
   "cell_type": "code",
   "execution_count": 212,
   "metadata": {
    "collapsed": false,
    "scrolled": true
   },
   "outputs": [
    {
     "data": {
      "text/plain": [
       "[[0, 1, 1, 1, 0, 0, 1, 1, 1],\n",
       " [1, 0, 1, 0, 0, 0, 0, 0, 1],\n",
       " [1, 1, 0, 1, 0, 1, 0, 1, 0],\n",
       " [1, 1, 0, 0, 0, 1, 1, 1, 1],\n",
       " [0, 1, 1, 0, 0, 1, 1, 0, 0],\n",
       " [0, 1, 1, 0, 0, 0, 0, 0, 1],\n",
       " [0, 0, 0, 1, 1, 1, 0, 0, 0],\n",
       " [0, 1, 1, 1, 1, 0, 1, 0, 0],\n",
       " [1, 0, 0, 0, 1, 1, 0, 1, 0]]"
      ]
     },
     "execution_count": 212,
     "metadata": {},
     "output_type": "execute_result"
    }
   ],
   "source": [
    "matrice_c ()"
   ]
  },
  {
   "cell_type": "code",
   "execution_count": 213,
   "metadata": {
    "collapsed": true
   },
   "outputs": [],
   "source": [
    "def fonction (x):\n",
    "    return x"
   ]
  },
  {
   "cell_type": "code",
   "execution_count": 222,
   "metadata": {
    "collapsed": false,
    "scrolled": true
   },
   "outputs": [],
   "source": [
    "import random\n",
    "\n",
    "def initialisation_v0 ():\n",
    "    \"\"\"initialisation d'une matrice v0 remplis de 0\"\"\"\n",
    "    a=np.eye(9,9)\n",
    "    \"\"\"je crée une matrice avec des 1 en diagonale\"\"\"\n",
    "    list_finale=[]\n",
    "    for i in a:\n",
    "        sous_list=[]\n",
    "        \"\"\"je purge la matrice des 1, on pourras les remplacer par des nouvelle valeurs par la suite\"\"\"\n",
    "        for o in i:\n",
    "            if(o==0):\n",
    "                sous_list.append(0)\n",
    "            if(o==1):\n",
    "                o=0\n",
    "                sous_list.append(0)\n",
    "        list_finale.append(sous_list)\n",
    "        \"\"\"donne une matrice remplis de 0\"\"\"\n",
    "    return list_finale"
   ]
  },
  {
   "cell_type": "code",
   "execution_count": 239,
   "metadata": {
    "collapsed": false
   },
   "outputs": [],
   "source": [
    "def fonction_N(y, nn):\n",
    "    \"\"\"définis N1, N2, N3\"\"\"\n",
    "    Lres=[]\n",
    "    #nn: nombre neuronne\n",
    "    #y: boucle du calcule\n",
    "    for i in range (nn):\n",
    "        \"\"\"la boucle permet de definir 1 dans N\"\"\"\n",
    "        if (i!=y):\n",
    "            Lres.append([0])\n",
    "        if (i==y):\n",
    "            Lres.append([1])\n",
    "        c= np.array(Lres)\n",
    "    return c\n",
    "    "
   ]
  },
  {
   "cell_type": "code",
   "execution_count": 240,
   "metadata": {
    "collapsed": false
   },
   "outputs": [
    {
     "data": {
      "text/plain": [
       "array([[0],\n",
       "       [0],\n",
       "       [1],\n",
       "       [0],\n",
       "       [0],\n",
       "       [0],\n",
       "       [0],\n",
       "       [0],\n",
       "       [0]])"
      ]
     },
     "execution_count": 240,
     "metadata": {},
     "output_type": "execute_result"
    }
   ],
   "source": [
    "fonction_N(2,9)"
   ]
  },
  {
   "cell_type": "code",
   "execution_count": 17,
   "metadata": {
    "collapsed": false
   },
   "outputs": [
    {
     "data": {
      "text/plain": [
       "[42, 0, 0, 0]"
      ]
     },
     "execution_count": 17,
     "metadata": {},
     "output_type": "execute_result"
    }
   ],
   "source": [
    "L1=[0,0,0,0]\n",
    "L2=L1\n",
    "L2[0]=42\n",
    "L1"
   ]
  },
  {
   "cell_type": "code",
   "execution_count": 16,
   "metadata": {
    "collapsed": false
   },
   "outputs": [
    {
     "data": {
      "image/png": "[encoded data removed]",
      "text/plain": [
       "<matplotlib.figure.Figure at 0x7f26e74eb5f8>"
      ]
     },
     "metadata": {},
     "output_type": "display_data"
    }
   ],
   "source": [
    "from pylab import *\n",
    "\n",
    "n = 1024\n",
    "X = np.random.normal(0,1,n)\n",
    "Y = np.random.normal(0,1,n)\n",
    "\n",
    "scatter(X,Y)\n",
    "show()"
   ]
  },
  {
   "cell_type": "code",
   "execution_count": 15,
   "metadata": {
    "collapsed": false
   },
   "outputs": [
    {
     "data": {
      "image/png": "[encoded data removed]",
      "text/plain": [
       "<matplotlib.figure.Figure at 0x7f26e74b6048>"
      ]
     },
     "metadata": {},
     "output_type": "display_data"
    }
   ],
   "source": [
    "from pylab import *\n",
    "\n",
    "X = np.linspace(-np.pi, np.pi, 256,endpoint=True)\n",
    "C,S = np.cos(X), np.sin(X)\n",
    "\n",
    "plot(X,C)\n",
    "plot(X,S)\n",
    "\n",
    "show()"
   ]
  },
  {
   "cell_type": "code",
   "execution_count": null,
   "metadata": {
    "collapsed": true
   },
   "outputs": [],
   "source": []
  },
  {
   "cell_type": "code",
   "execution_count": null,
   "metadata": {
    "collapsed": true
   },
   "outputs": [],
   "source": []
  },
  {
   "cell_type": "code",
   "execution_count": null,
   "metadata": {
    "collapsed": true
   },
   "outputs": [],
   "source": []
  },
  {
   "cell_type": "code",
   "execution_count": null,
   "metadata": {
    "collapsed": true
   },
   "outputs": [],
   "source": []
  }
 ],
 "metadata": {
  "kernelspec": {
   "display_name": "Python 3",
   "language": "python",
   "name": "python3"
  },
  "language_info": {
   "codemirror_mode": {
    "name": "ipython",
    "version": 3
   },
   "file_extension": ".py",
   "mimetype": "text/x-python",
   "name": "python",
   "nbconvert_exporter": "python",
   "pygments_lexer": "ipython3",
   "version": "3.4.2"
  }
 },
 "nbformat": 4,
 "nbformat_minor": 0
}
