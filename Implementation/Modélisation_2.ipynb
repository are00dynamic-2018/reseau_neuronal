{
 "cells": [
  {
   "cell_type": "code",
   "execution_count": 20,
   "metadata": {
    "collapsed": true
   },
   "outputs": [],
   "source": [
    "import numpy as np\n",
    "import copy\n",
    "import random\n",
    "import matplotlib.pyplot as plt\n",
    "import matplotlib.animation as animation\n",
    "import math\n",
    "\n",
    "N = 20 #number of neurons\n",
    "Vseuil = 60 #the threshold of activation of neuron, in mV, global variable, used in functions\n",
    "Vmax = 120 #90 #Vmax maximum can be attained\n",
    "Vmin= -5 #-15 #Vmin minimum can be attained\n",
    "Vmin_ma = -5\n",
    "tau = 10\n",
    "tPA = 1 #0.2\n",
    "deltaT = 0.1 #0.1\n",
    "tPH = 0.9 #0.9\n",
    "tH = 1.1 #1.1\n",
    "alpha = 0.1 #0.1\n",
    "nb_steps = 100 #number of simulation\n",
    "beta=1 #beta*Vmax"
   ]
  },
  {
   "cell_type": "code",
   "execution_count": 21,
   "metadata": {
    "collapsed": true
   },
   "outputs": [],
   "source": [
    "### Functions for initiations\n",
    "def init_syst_links():\n",
    "    \"\"\"Create a matrix of 2 dimensions which shows the connections between neurons in the system.\n",
    "    Initiated randomly and stay the same always. (a transpose matrix of the regular matrix)\n",
    "    syst_links[i][j] = 1: j connects and can send signal to i, not in reverse\n",
    "    syst_links[i][j] = 0: j doesnt connect to i\n",
    "    syst_links[i][i] = k: the decrease factor of potential of the neuron i\"\"\"\n",
    "    syst_links = np.random.rand(N, N)\n",
    "    for i in range(N):\n",
    "        for j in range(N):\n",
    "            if i != j:\n",
    "                syst_links[i][j] = random.choice([0.0, 1.0]) * (-1) * random.choice([0, 1])\n",
    "            else:\n",
    "                syst_links[i][j] = 1./beta\n",
    "    syst_links.transpose()\n",
    "    return syst_links"
   ]
  },
  {
   "cell_type": "code",
   "execution_count": 22,
   "metadata": {
    "collapsed": true
   },
   "outputs": [],
   "source": [
    "def init_syst_potentiel():\n",
    "    \"\"\"Create a matrix of 2D which shows the potential of each neuron at time t of the simulation.\n",
    "    Initiated randomly.\n",
    "    syst_potentiel[i][j] = 0 for every i != j;\n",
    "    syst_potentiel[i][i] = value of potential of neuron i\"\"\"\n",
    "\n",
    "    syst_potentiel = np.zeros((N, N), dtype=float)\n",
    "    return syst_potentiel"
   ]
  },
  {
   "cell_type": "code",
   "execution_count": 23,
   "metadata": {
    "collapsed": true
   },
   "outputs": [],
   "source": [
    "def init_syst_state():\n",
    "    \"\"\"Create a matrix of size(nb_neuron,1) which shows the state of activation of a neuron.\n",
    "    Initiated randomly.\n",
    "    syst_act[i][0] = 0: neuron i isnt activated, it cant send signal to others\n",
    "    syst_act[i][0] = 1: neuron i is activated and can send signal to others\n",
    "    When the potential of a neuron i passes the threshold, syst_act[i][0] = 1 at the next step\n",
    "    After release all its potential, syst_act[i][0] = 0 at the next step\"\"\"\n",
    "\n",
    "    syst_state = np.zeros((N,1), dtype=int)\n",
    "    return syst_state"
   ]
  },
  {
   "cell_type": "code",
   "execution_count": 24,
   "metadata": {
    "collapsed": true
   },
   "outputs": [],
   "source": [
    "def matrix_Ni(i):\n",
    "    \"\"\"Create a matrix 2D which helps keeping the potential of each neuron of the previous step to the next step\n",
    "    Size: (nb_neuron,1)\n",
    "    Only the i of the neuron in current execution is set to 1. All the others elements are 0.\"\"\"\n",
    "\n",
    "    matrix_Ni = np.zeros((N,1), dtype=int)\n",
    "    matrix_Ni[i][0] = 1\n",
    "    return matrix_Ni"
   ]
  },
  {
   "cell_type": "code",
   "execution_count": 25,
   "metadata": {
    "collapsed": true
   },
   "outputs": [],
   "source": [
    "def init_syst_phase():\n",
    "    \"\"\"Create a matrix of size (N,1) which keeps tracks of the phase of all the neurons in the system.\n",
    "    There are 5 phases stated in the document of algorithme.\"\"\"\n",
    "\n",
    "    syst_phase = np.zeros((N, 1), dtype=float)\n",
    "    return syst_phase"
   ]
  },
  {
   "cell_type": "code",
   "execution_count": 26,
   "metadata": {
    "collapsed": true
   },
   "outputs": [],
   "source": [
    "def init_syst_lambda():\n",
    "    \"\"\"Create a matrix of size (N,1) which helps keep tracks of the coefficient lambda which decides the pourcentage\n",
    "    of Vmax can be attained in the next depolarisation.\"\"\"\n",
    "\n",
    "    syst_lambda = np.ones((N, 1), dtype=float)\n",
    "    return syst_lambda"
   ]
  },
  {
   "cell_type": "code",
   "execution_count": 27,
   "metadata": {
    "collapsed": true
   },
   "outputs": [],
   "source": [
    "def init_time_rest():\n",
    "    \"\"\"Create a matrix of size (N,1) which count the steps taken by all neurons of the system after they were depolarised\"\"\"\n",
    "\n",
    "    time_rest = np.zeros((N, 1), dtype=float)\n",
    "    return time_rest"
   ]
  },
  {
   "cell_type": "code",
   "execution_count": 28,
   "metadata": {
    "collapsed": false
   },
   "outputs": [],
   "source": [
    "def func_act_0(potentiel):\n",
    "    \"\"\"float -> float\n",
    "    The function activate of the system is to modify the potential of each neuron corresponding\n",
    "    to its current phase = 0 and depending on its sum of reception from others\"\"\"\n",
    "    #V_new: potential of neuron after affected by the activate function\n",
    "    V_new=0\n",
    "    if potentiel > 0:\n",
    "        if potentiel < Vseuil:\n",
    "            V_new = potentiel*math.exp(-1. / tau * math.log(100*Vseuil))\n",
    "        else:\n",
    "            V_new = Vseuil\n",
    "    elif potentiel < 0:\n",
    "        if potentiel > Vmin :\n",
    "            V_new = potentiel * math.exp(-1. / tau * math.log(100 * abs(Vmin_ma)))\n",
    "        else :\n",
    "            V_new = Vmin\n",
    "    return V_new\n",
    "\n",
    "def func_act_1(potentiel, lamb):\n",
    "    \"\"\"float -> float\n",
    "    The function activate of the system is to modify the potential of each neuron corresponding\n",
    "    to its current phase = 1 and depending on its sum of reception from others\"\"\"\n",
    "    #V_new: potential of neuron after affected by the activate function\n",
    "    V_new = potentiel + (2 * lamb * (Vmax - Vseuil) * deltaT / (tPA - deltaT))\n",
    "    var = lamb * (Vmax - Vseuil) + Vseuil  # var temporary to stock the value of Vmax of the current depolarisation\n",
    "    if V_new >= var:\n",
    "        V_new = var\n",
    "    return V_new\n",
    "\n",
    "def func_act_2(potentiel, lamb):\n",
    "    \"\"\"float -> float\n",
    "    The function activate of the system is to modify the potential of each neuron corresponding\n",
    "    to its current phase = 2 and depending on its sum of reception from others\"\"\"\n",
    "    #V_new: potential of neuron after affected by the activate function\n",
    "    V_new = potentiel - (2 * lamb * (Vmax - Vseuil) * deltaT / (tPA - deltaT))\n",
    "    if V_new <= Vseuil:\n",
    "        V_new = Vseuil\n",
    "    return V_new\n",
    "\n",
    "def func_act_3(potentiel, lamb):\n",
    "    \"\"\"float -> float\n",
    "    The function activate of the system is to modify the potential of each neuron corresponding\n",
    "    to its current phase = 3 and depending on its sum of reception from others\"\"\"\n",
    "    #V_new: potential of neuron after affected by the activate function\n",
    "    V_new = potentiel - (Vseuil - lamb * Vmin * deltaT) / (math.exp(alpha * (1-lamb)) * tPH)\n",
    "    if V_new < lamb * Vmin:\n",
    "        V_new = lamb * Vmin\n",
    "    return V_new\n",
    "\n",
    "def func_act_4(potentiel, lamb):\n",
    "    \"\"\"float -> float\n",
    "    The function activate of the system is to modify the potential of each neuron corresponding\n",
    "    to its current phase = 4 and depending on its sum of reception from others\"\"\"\n",
    "    #V_new: potential of neuron after affected by the activate function\n",
    "    V_new = potentiel - (lamb * Vmin * deltaT / (math.exp(alpha * (1-lamb)) * tH))\n",
    "    if V_new > 0:\n",
    "        V_new = 0\n",
    "    return V_new"
   ]
  },
  {
   "cell_type": "code",
   "execution_count": 29,
   "metadata": {
    "collapsed": true
   },
   "outputs": [],
   "source": [
    "def update_lamb(lamb, time_rest):\n",
    "    new_lamb = 1-(time_rest / (math.exp(alpha * (1-lamb)) * (tPH + tH) + deltaT))\n",
    "    return new_lamb"
   ]
  },
  {
   "cell_type": "code",
   "execution_count": 30,
   "metadata": {
    "collapsed": true
   },
   "outputs": [],
   "source": [
    "def give_time_ar(lamb):\n",
    "    return math.exp(alpha * (1-lamb)) * (tPH + tH) + deltaT"
   ]
  },
  {
   "cell_type": "code",
   "execution_count": 31,
   "metadata": {
    "collapsed": true
   },
   "outputs": [],
   "source": [
    "def start_syst(syst_potentiel, syst_state, syst_phase):\n",
    "    \"\"\"Send in the information in form electric ranged between 0 and (Vseuil + Vmax)/2 (mV) to kick off the system.\n",
    "    we suppose that this function will only be called when there are no transmission in between the neurons and all the\n",
    "    neurons are at phase 0 (we still wait until the neurones at phase 3 and 4 rest at 0 and turns to phase 0,\n",
    "    meanwhile, others neurons at phase 0 will still decrease as defined)\n",
    "     Return None as the parametres given to the function is already modified\"\"\"\n",
    "\n",
    "    for i in range(N):\n",
    "        syst_potentiel[i][i] = func_act_0(syst_potentiel[i][i] + random.uniform(0, (Vseuil + Vmax)/2))\n",
    "        if syst_potentiel[i][i] >= Vseuil:\n",
    "            syst_state[i][0] = 1\n",
    "            syst_phase[i][0] = 1"
   ]
  },
  {
   "cell_type": "code",
   "execution_count": 32,
   "metadata": {
    "collapsed": true
   },
   "outputs": [],
   "source": [
    "def start_syst_1(syst_potentiel, syst_state, syst_phase, syst_lambda, time_rest):\n",
    "    \"\"\"Send in the information in form electric ranged between 0 and Vseuil (mV) to kick off the system.\n",
    "    we suppose that this function will only be called when there are no transmission in between the neurons which means\n",
    "    all neurons are at phase {0,3,4}. Indeed, if a neuron in phase 3 or 4 is activated after this functions is called,\n",
    "    the new Vmax will be calculated, else, we have to set its lambda back to 1\n",
    "    Return None as the parametres given to the function is already modified\"\"\"\n",
    "\n",
    "    for i in range(N):\n",
    "        syst_potentiel[i][i] = func_act_0(syst_potentiel[i][i] + random.uniform(0, Vseuil))\n",
    "        if syst_potentiel[i][i] >= Vseuil:\n",
    "            if syst_phase[i][0] == 3 or syst_phase[i][0] == 4:\n",
    "                syst_lambda[i][0] = update_lamb(syst_lambda[i][0], time_rest[i][0])\n",
    "            syst_state[i][0] = 1\n",
    "            syst_phase[i][0] = 1\n",
    "        else:\n",
    "            syst_lambda[i][0] = 1\n",
    "            syst_phase[i][0] = 0"
   ]
  },
  {
   "cell_type": "code",
   "execution_count": 33,
   "metadata": {
    "collapsed": true
   },
   "outputs": [],
   "source": [
    "def non_transmittable(syst_state, syst_phase):\n",
    "    \"\"\"Verify if there is no transmission between neurons and all neurons are at phase 0\n",
    "    This function is compatible with the function start_syst\n",
    "    return a bool\"\"\"\n",
    "    res = True\n",
    "    for i in range(N):\n",
    "        if syst_state[i][0] == 0 or syst_phase[i][0] != 0:\n",
    "            res = False\n",
    "            break\n",
    "    return res"
   ]
  },
  {
   "cell_type": "code",
   "execution_count": 34,
   "metadata": {
    "collapsed": true
   },
   "outputs": [],
   "source": [
    "def non_transmittable_1(syst_state):\n",
    "    \"\"\"Verify if there is no transmission between neurons\n",
    "    This function is compatible with the function start_syst_1\n",
    "    return a bool\"\"\"\n",
    "    res = True\n",
    "    for i in range(N):\n",
    "        if syst_state[i][0] == 1:\n",
    "            res = False\n",
    "            break\n",
    "    return res"
   ]
  },
  {
   "cell_type": "code",
   "execution_count": 35,
   "metadata": {
    "collapsed": false
   },
   "outputs": [],
   "source": [
    "def update_system(syst_potentiel, syst_links, syst_state, syst_phase, syst_lambda, time_rest):\n",
    "    \"\"\"matrix(N,N) ^2 * matrix(N,1) ^5 -> tuple(matrix(N,N), matrix(N,1))\n",
    "    Calculate the potentials of all the neurons at the time t+1 and also update theirs state at time t+1 (activated or not)\n",
    "    All neurons will be update simultaneously.\n",
    "    Return the potentials and their states of the whole system in form matrix.\"\"\"\n",
    "    new_syst_potentiel = init_syst_potentiel()\n",
    "    new_syst_state = copy.deepcopy(syst_state)\n",
    "    var = 0 #variable temporary\n",
    "    for i in range(N):\n",
    "        \n",
    "\n",
    "        if syst_state[i][0] == 0:\n",
    "            #if a neuron is not in the potential of action, it will receive from others (phase = {0,3,4})\n",
    "            var = beta*np.dot(syst_links[i], np.dot(syst_potentiel, syst_state + matrix_Ni(i)) + (-Vseuil) * syst_state)\n",
    "            \n",
    "            if time_rest[i][0]>0 :\n",
    "                time_rest[i][0] = time_rest[i][0]-deltaT\n",
    "            else :\n",
    "            #the neuron has wait enough to reach Vmax on the next depolarization\n",
    "                syst_lambda[i][0]=1\n",
    "                time_rest[i][0] = 0\n",
    "        else:\n",
    "            #else it will not receive transmission from others and behaves as defined ( phase = {1,2})\n",
    "            var = syst_potentiel[i][i]\n",
    "        #var stocks the sum of potential that a neuron has after receiving from others (period of transmission between\n",
    "        #neurones) and before affected by func_act\n",
    "        \n",
    "        if syst_phase[i][0] == 0:\n",
    "            new_syst_potentiel[i][i]=func_act_0(var)\n",
    "            if new_syst_potentiel[i][i] == Vseuil:\n",
    "                new_syst_state[i][0] = 1\n",
    "                syst_phase[i][0] = 1\n",
    "                \n",
    "                if time_rest[i][0]!=0 :\n",
    "                    syst_lambda[i][0] = update_lamb(syst_lambda[i][0], time_rest[i][0])\n",
    "                    time_rest[i][0]=give_time_ar(syst_lambda[i][0])\n",
    "                else :\n",
    "                    time_rest[i][0]=give_time_ar(syst_lambda[i][0])\n",
    "                \n",
    "\n",
    "        elif syst_phase[i][0] == 1:\n",
    "            new_syst_potentiel[i][i] = func_act_1(var, syst_lambda[i][0])\n",
    "            Vmax_current = syst_lambda[i][0] * (Vmax - Vseuil) + Vseuil\n",
    "            if new_syst_potentiel[i][i] == Vmax_current:\n",
    "                syst_phase[i][0] = 2\n",
    "\n",
    "        elif syst_phase[i][0] == 2:\n",
    "            new_syst_potentiel[i][i] = func_act_2(var, syst_lambda[i][0])\n",
    "            if new_syst_potentiel[i][i] == Vseuil:\n",
    "                new_syst_state[i][0] = 0\n",
    "                syst_phase[i][0] = 3\n",
    "                \n",
    "\n",
    "                \n",
    "        elif syst_phase[i][0] == 3:\n",
    "                   \n",
    "            if var!=syst_potentiel[i][i] :\n",
    "                syst_phase[i][0] = 0\n",
    "                new_syst_potentiel[i][i]=func_act_0(var)\n",
    "                \n",
    "            else:\n",
    "                #the neuron in phase 3 doesn't receive any potential from others so it will continue to decrease by the\n",
    "                #function defined for this phase\n",
    "                new_syst_potentiel[i][i] = func_act_3(var, syst_lambda[i][0])\n",
    "                \n",
    "                if new_syst_potentiel[i][i] == syst_lambda[i][0] * Vmin:\n",
    "                    syst_phase[i][0] = 4\n",
    "\n",
    "        elif syst_phase[i][0] == 4:\n",
    "            \n",
    "            if var!=syst_potentiel[i][i] :\n",
    "                syst_phase[i][0] = 0\n",
    "                new_syst_potentiel[i][i]=func_act_0(var)\n",
    "                 \n",
    "            else:\n",
    "                new_syst_potentiel[i][i] = func_act_4(var, syst_lambda[i][0])\n",
    "                \n",
    "                    \n",
    "                if new_syst_potentiel[i][i] == 0:\n",
    "                    #after a neuron of phase 4 reaches 0, everything is set back to starting point\n",
    "                    syst_phase[i][0] = 0\n",
    "                    \n",
    "    \n",
    "    return (new_syst_potentiel, new_syst_state)\n"
   ]
  },
  {
   "cell_type": "code",
   "execution_count": 36,
   "metadata": {
    "collapsed": true
   },
   "outputs": [],
   "source": [
    "def simulation(syst_potentiel, syst_links, syst_state, syst_phase, syst_lambda, time_rest, nb_steps):\n",
    "    \"\"\"Return a list of all the matrixes, each matrix shows the potentials of the system\n",
    "    at moment t\"\"\"\n",
    "    # res_potentiels: list[matrix(N,N)]\n",
    "    #res_states: list[matrix(N,1)]\n",
    "    res_potentiels = []\n",
    "    res_states = []\n",
    "\n",
    "\n",
    "    new_p = copy.deepcopy(syst_potentiel)\n",
    "    res_potentiels.append(new_p.copy())\n",
    "    new_s = copy.deepcopy(syst_state)\n",
    "    res_states.append(new_s)\n",
    "\n",
    "\n",
    "    for i in range(nb_steps):\n",
    "        if non_transmittable_1(new_s):\n",
    "            #normally it's improbable for this condition to occur when the neural network contains millions of neurons\n",
    "            #but in the system with a small number of neuron, this condition makes sure the system will run continuously\n",
    "            L=[i for i in range(N)]\n",
    "            random.shuffle(L)\n",
    "            for k in range(random.randint(int(N/4),int(N/2))):\n",
    "                new_p[L[k]][L[k]]=new_p[L[k]][L[k]]+random.uniform(0,Vseuil)\n",
    "        \n",
    "        new_p, new_s = update_system(new_p, syst_links, new_s, syst_phase, syst_lambda, time_rest)\n",
    "\n",
    "        res_potentiels.append(copy.deepcopy(new_p))\n",
    "        res_states.append(copy.deepcopy(new_s))\n",
    "        \n",
    "    return (res_potentiels, res_states)"
   ]
  },
  {
   "cell_type": "code",
   "execution_count": 37,
   "metadata": {
    "collapsed": false
   },
   "outputs": [],
   "source": [
    "Vt = init_syst_potentiel()\n",
    "C = init_syst_links()\n",
    "Tt = init_syst_state()\n",
    "E = init_syst_phase()\n",
    "lamb = init_syst_lambda()\n",
    "Tar = init_time_rest()"
   ]
  },
  {
   "cell_type": "code",
   "execution_count": 38,
   "metadata": {
    "collapsed": false
   },
   "outputs": [],
   "source": [
    "start_syst(Vt, Tt, E)\n",
    "res_potentials, res_states= simulation(Vt, C, Tt, E, lamb, Tar, nb_steps)"
   ]
  },
  {
   "cell_type": "code",
   "execution_count": 1327,
   "metadata": {
    "collapsed": false
   },
   "outputs": [
    {
     "data": {
      "text/plain": [
       "array([[ -1.50000000e+01,   0.00000000e+00,   0.00000000e+00, ...,\n",
       "          0.00000000e+00,   0.00000000e+00,   0.00000000e+00],\n",
       "       [  0.00000000e+00,  -1.50000000e+01,   0.00000000e+00, ...,\n",
       "          0.00000000e+00,   0.00000000e+00,   0.00000000e+00],\n",
       "       [  0.00000000e+00,   0.00000000e+00,   1.61771514e-02, ...,\n",
       "          0.00000000e+00,   0.00000000e+00,   0.00000000e+00],\n",
       "       ..., \n",
       "       [  0.00000000e+00,   0.00000000e+00,   0.00000000e+00, ...,\n",
       "          9.33333333e+01,   0.00000000e+00,   0.00000000e+00],\n",
       "       [  0.00000000e+00,   0.00000000e+00,   0.00000000e+00, ...,\n",
       "          0.00000000e+00,  -1.50000000e+01,   0.00000000e+00],\n",
       "       [  0.00000000e+00,   0.00000000e+00,   0.00000000e+00, ...,\n",
       "          0.00000000e+00,   0.00000000e+00,   2.55335656e-02]])"
      ]
     },
     "execution_count": 1327,
     "metadata": {},
     "output_type": "execute_result"
    }
   ],
   "source": [
    "res_potentials[20]"
   ]
  },
  {
   "cell_type": "markdown",
   "metadata": {},
   "source": [
    "# Evolution du réseau de neurone"
   ]
  },
  {
   "cell_type": "markdown",
   "metadata": {},
   "source": [
    "## Mise en forme des résultats"
   ]
  },
  {
   "cell_type": "code",
   "execution_count": 21,
   "metadata": {
    "collapsed": true
   },
   "outputs": [],
   "source": [
    "def in_list(L,element,radius):\n",
    "    res=False\n",
    "    for k in range(len(L)):\n",
    "        if((element[0]-L[k][0])**2+(element[1]-L[k][1])**2<=radius**2):\n",
    "            res=True\n",
    "    return res"
   ]
  },
  {
   "cell_type": "code",
   "execution_count": 22,
   "metadata": {
    "collapsed": true
   },
   "outputs": [],
   "source": [
    "def annimate_network_ini(resultat_potentials,resultat_states,C,radius=2):\n",
    "    \n",
    "    N=2*len(resultat_states[0]) #N= number of neurons in the network\n",
    "    Lo=[]\n",
    "    \n",
    "    \n",
    "    for i in range(N):\n",
    "        E=[random.uniform(0,N),random.uniform(0,N)]\n",
    "        while in_list(Lo,E,radius):\n",
    "            E=[random.uniform(0,N),random.uniform(0,N)] \n",
    "        Lo.append(E)\n",
    "    print(\"Organisation spatiale faite\")\n",
    "    #Lo contains the coordinates of 2D array that will help to have a spacial organization of the ntework\n",
    "    \n",
    "    LcoordX=[]\n",
    "    LcoordY=[]\n",
    "    Lpotent=[]\n",
    "    \n",
    "    for k in range(len(resultat_states)):\n",
    "        Lx=[] #temporary variable\n",
    "        Ly=[]\n",
    "        Lp=[]\n",
    "        for l in range(len(resultat_states[k])):\n",
    "            if(resultat_states[k][l]==1): #the l neurons has been activated on the previous step\n",
    "                #Below, we want to show the link beteween the neuro which was activated and the neurons which will receive the signal\n",
    "                for i in range(len(C)):\n",
    "                    if (C[i][l]!=0 and l!=i):\n",
    "                        Lx.append([Lo[l][0],Lo[i][0]])\n",
    "                        #L.append([coord_x_neuron_l,coord_y_neuron_l],[coord_x_neuron_i,coord_y_neuron_i])\n",
    "                        #After we will plot a line between the neuron l and i\n",
    "                        Ly.append([Lo[l][1],Lo[i][1]])\n",
    "                        \n",
    "                        Lp.append([resultat_potentials[k][l][l],abs(C[i][l])*resultat_potentials[k][l][l]])\n",
    "            else :\n",
    "                Lx.append([Lo[l][0],-1])\n",
    "                Ly.append([Lo[l][1],-1])\n",
    "                Lp.append([resultat_potentials[k][l][l],-1])\n",
    "                        \n",
    "        LcoordX.append(copy.deepcopy(Lx))\n",
    "        LcoordY.append(copy.deepcopy(Ly))\n",
    "        Lpotent.append(copy.deepcopy(Lp))\n",
    "        #On a single step of the animation we have to plot all the link between neurons which were activated\n",
    "    \n",
    "    print(\"FIN\")\n",
    "    \n",
    "    return LcoordX,LcoordY,Lpotent,N"
   ]
  },
  {
   "cell_type": "code",
   "execution_count": 25,
   "metadata": {
    "collapsed": false
   },
   "outputs": [
    {
     "name": "stdout",
     "output_type": "stream",
     "text": [
      "Organisation spatiale faite\n",
      "FIN\n"
     ]
    }
   ],
   "source": [
    "LcoordX,LcoordY,Lpotent,N=annimate_network_ini(res_potentials,res_states,C,radius=10)"
   ]
  },
  {
   "cell_type": "markdown",
   "metadata": {},
   "source": [
    "## Aperçu graphique"
   ]
  },
  {
   "cell_type": "code",
   "execution_count": 26,
   "metadata": {
    "collapsed": false
   },
   "outputs": [
    {
     "data": {
      "image/png": "[encoded data removed]",
      "text/plain": [
       "<matplotlib.figure.Figure at 0x2be31da0>"
      ]
     },
     "metadata": {},
     "output_type": "display_data"
    }
   ],
   "source": [
    "i=0\n",
    "s=len(LcoordX[i])\n",
    "for k in range(s):\n",
    "    plt.plot(LcoordX[i][k][0],LcoordY[i][k][0],marker='o',markeredgecolor='red')\n",
    "    plt.plot(LcoordX[i][k][1],LcoordY[i][k][1],marker='o',markeredgecolor='red')\n",
    "plt.show()"
   ]
  },
  {
   "cell_type": "markdown",
   "metadata": {},
   "source": [
    "## Création de l'animation"
   ]
  },
  {
   "cell_type": "code",
   "execution_count": 27,
   "metadata": {
    "collapsed": false
   },
   "outputs": [],
   "source": [
    "Lvars=[0,beta*Vmax,10,5,1] #[max_object_line,beta*Vmax,markersize_max,markersize_min,line_size_max]\n",
    "for L in LcoordX:\n",
    "    if len(L)>Lvars[0]:\n",
    "        Lvars[0]=len(L)\n",
    "#We have to plot Lvars[0] line. So we have to create Lvars[0] object line\n",
    "fig, ax= plt.subplots()\n",
    "\n",
    "for k in range(Lvars[0]):\n",
    "    vars()['line'+str(k)],=ax.plot(0, 0, color='k')\n",
    "    eval('line'+str(k)).axes.axis([0-Lvars[2], N+Lvars[2], 0-Lvars[2], N+Lvars[2]])\n",
    "    #initialization of the Lvars[0] object line\n",
    "    ax.set_facecolor(\"dimgrey\")\n",
    "\n",
    "def animate(i):\n",
    "    t=() #tuple \n",
    "\n",
    "    s=len(LcoordX[i])\n",
    "    for k in range(Lvars[0]):\n",
    "        if(k<s): \n",
    "            markersize=abs(Lpotent[i][k][0])*(Lvars[2]-Lvars[3])/Lvars[1]+Lvars[3]\n",
    "\n",
    "            X=LcoordX[i][k]\n",
    "            Y=LcoordY[i][k]\n",
    "            \n",
    "            if(LcoordX[i][k][1]==-1):\n",
    "                X=[LcoordX[i][k][0],LcoordX[i][k][0]+markersize]\n",
    "                Y=[LcoordY[i][k][0],LcoordY[i][k][0]+markersize]\n",
    "                linesize=0\n",
    "                \n",
    "                if Lpotent[i][k][0]>0:\n",
    "                    color=\"yellowgreen\"\n",
    "                else :\n",
    "                    color=\"c\"\n",
    "            else :\n",
    "                linesize=Lpotent[i][k][1]*Lvars[4]/Lvars[1]\n",
    "                color=\"orangered\"\n",
    "            \n",
    "            eval('line'+str(k)).set_data(LcoordX[i][k],LcoordY[i][k])\n",
    "            eval('line'+str(k)).set_marker('o')\n",
    "            eval('line'+str(k)).set_markersize(markersize)\n",
    "            eval('line'+str(k)).set_markerfacecolor(color)\n",
    "            eval('line'+str(k)).set_markeredgecolor(color)\n",
    "            eval('line'+str(k)).set_markevery(2) \n",
    "            #allow to plot marker only on the start of the line (the neuron which has been activated)\n",
    "            #the value is equal to 2 because we plot line by line (just with 2 points)\n",
    "            eval('line'+str(k)).set_linewidth(linesize)\n",
    "            eval('line'+str(k)).set_color(\"orange\")\n",
    "            \n",
    "        else :\n",
    "            eval('line'+str(k)).set_data(0,0)\n",
    "            eval('line'+str(k)).set_markersize(0)\n",
    "        #update data of objects lines\n",
    "            \n",
    "        t=t+(eval('line'+str(k)),)\n",
    "        #cmap2 = colors.LinearSegmentedColormap.from_list('my_colormap',['dimgrey','dimgrey','dimgrey'],256)\n",
    "    \n",
    "    return t\n",
    "\n",
    "#eval(name) get variable by string name\n",
    "#vars()[name] set variable by string name"
   ]
  },
  {
   "cell_type": "code",
   "execution_count": 28,
   "metadata": {
    "collapsed": false
   },
   "outputs": [
    {
     "name": "stdout",
     "output_type": "stream",
     "text": [
      "FAIT\n"
     ]
    }
   ],
   "source": [
    "ani = animation.FuncAnimation(fig, animate, nb_steps, blit=True,)\n",
    "ani.save(\"test.mp4\",bitrate=-1,fps=5)\n",
    "print(\"FAIT\")"
   ]
  },
  {
   "cell_type": "markdown",
   "metadata": {},
   "source": [
    "# Evolution du potentiel d'un neurone"
   ]
  },
  {
   "cell_type": "markdown",
   "metadata": {},
   "source": [
    "## Stimulation des entrées"
   ]
  },
  {
   "cell_type": "code",
   "execution_count": 40,
   "metadata": {
    "collapsed": true
   },
   "outputs": [],
   "source": [
    "import numpy as np\n",
    "beta=1\n",
    "\n",
    "Vt = init_syst_potentiel()\n",
    "C = init_syst_links()\n",
    "Tt = init_syst_state()\n",
    "E = init_syst_phase()\n",
    "lamb = init_syst_lambda()\n",
    "Tar = init_time_rest()\n",
    "\n",
    "\n",
    "res_pot=[]\n",
    "r=[]\n",
    "\n",
    "Vt[0][0]=0\n",
    "Vt[1][1]=0\n",
    "Tt[0][0]=0\n",
    "Tt[1][0]=0\n",
    "E[0][0]=0\n",
    "E[1][0]=0\n",
    "new_p = copy.deepcopy(Vt)\n",
    "new_s = copy.deepcopy(Tt)\n",
    "\n",
    "for k in range(N):\n",
    "    if(k!=0):\n",
    "        C[0][k]=0\n",
    "        C[k][0]=0\n",
    "C[0][1]=1\n",
    "C[0][2]=1\n",
    "#set only one entry for the neuron one\n",
    "res_pot=[]\n",
    "Lstimu=[]\n",
    "compt=0"
   ]
  },
  {
   "cell_type": "code",
   "execution_count": 41,
   "metadata": {
    "collapsed": false
   },
   "outputs": [
    {
     "name": "stdout",
     "output_type": "stream",
     "text": [
      "potentiel neurone 0 : 0.0\n"
     ]
    }
   ],
   "source": [
    "i=0\n",
    "\n",
    "stimu1=i #stimu=1 : simulate an entry / stimu=0 no entry for the neuron one\n",
    "stimu2=i\n",
    "\n",
    "if stimu1==1 :\n",
    "    if(new_s[1][0]!=1):\n",
    "        new_p[1][1]=Vseuil\n",
    "        new_s[1][0]=1\n",
    "        E[1][0]=1\n",
    "        lamb[1][0]=1\n",
    "        print(\"neurone 1 : fin de dépolarisation\")\n",
    "        if compt not in L:\n",
    "            Lstimu.append(compt)\n",
    "\n",
    "if stimu2==1:\n",
    "    if(new_s[2][0]!=1):\n",
    "        new_p[2][2]=Vseuil\n",
    "        new_s[2][0]=1\n",
    "        E[2][0]=1\n",
    "        lamb[2][0]=1\n",
    "        print(\"neurone 2 : fin de dépolarisation\")\n",
    "        if compt not in L:\n",
    "            Lstimu.append(compt)\n",
    "\n",
    "\n",
    "    \n",
    "if(new_s[0][0]==1):\n",
    "    print(\"dépolarisation\")\n",
    "    for k in range(int(tPA/deltaT)):\n",
    "        new_p, new_s= update_system(new_p, C, new_s, E, lamb, Tar)\n",
    "        res_pot.append(new_p[0][0])\n",
    "        compt+=1\n",
    "else:\n",
    "    new_p, new_s= update_system(new_p, C, new_s, E, lamb, Tar)\n",
    "    res_pot.append(new_p[0][0])\n",
    "    compt+=1\n",
    "    \n",
    "print(\"potentiel neurone 0 : \"+str(new_p[0][0]))\n",
    "\n"
   ]
  },
  {
   "cell_type": "markdown",
   "metadata": {},
   "source": [
    "## Création du graphe"
   ]
  },
  {
   "cell_type": "code",
   "execution_count": 1216,
   "metadata": {
    "collapsed": false
   },
   "outputs": [
    {
     "data": {
      "image/png": "[encoded data removed]",
      "text/plain": [
       "<matplotlib.figure.Figure at 0xe8453c8>"
      ]
     },
     "metadata": {},
     "output_type": "display_data"
    }
   ],
   "source": [
    "import matplotlib.lines as mlines\n",
    "\n",
    "temps=[i for i in range(len(res_pot))]\n",
    "\n",
    "fig=plt.figure(figsize=(10,5))\n",
    "ax = fig.add_subplot(111)\n",
    "ax.set_xlabel('Temps (ms)\\n10 ud = 1 ms ')\n",
    "ax.set_ylabel('Potentiel (mV)')\n",
    "for k in range(len(res_pot)-1):\n",
    "    if(k in Lstimu):\n",
    "        plt.plot([temps[k],temps[k+1]],[res_pot[k],res_pot[k+1]],color='red',marker=\"^\",markerfacecolor=\"darkviolet\",markeredgecolor=\"dimgrey\",markevery=2,markersize=6)\n",
    "    else:\n",
    "        plt.plot([temps[k],temps[k+1]],[res_pot[k],res_pot[k+1]],color='red')\n",
    "\n",
    "\n",
    "marker = mlines.Line2D([], [], color='darkviolet', marker='^', markersize=6,markerfacecolor=\"darkviolet\",markeredgecolor=\"dimgrey\",linestyle='None',label=\"Stimulation d'une ou de plusieurs entrees\")\n",
    "line=mlines.Line2D([], [], color='red',label=\"Courbe simulee\")\n",
    "\n",
    "ax.legend(handles=[line,marker])\n",
    "plt.show()\n",
    "fig.savefig(\"courbe_demo_modelisation.pdf\")"
   ]
  },
  {
   "cell_type": "markdown",
   "metadata": {},
   "source": [
    "## Création de l'animation"
   ]
  },
  {
   "cell_type": "code",
   "execution_count": 1221,
   "metadata": {
    "collapsed": false
   },
   "outputs": [],
   "source": [
    "fig, ax= plt.subplots()\n",
    "\n",
    "marker = mlines.Line2D([], [], color='darkviolet', marker='^', markersize=6,markerfacecolor=\"darkviolet\",markeredgecolor=\"dimgrey\",linestyle='None',label=\"Stimulation d'une ou de plusieurs entrees\")\n",
    "l=mlines.Line2D([], [], color='red',label=\"Courbe simulee\")\n",
    "ax.legend(handles=[l,marker])\n",
    "\n",
    "line,=ax.plot(0, 0, color='red')\n",
    "line2,=ax.plot(0, 0, color='k')\n",
    "line.axes.axis([0, 100, -20, 140])\n",
    "temps=[i for i in range(len(res_pot))]\n",
    "\n",
    "\n",
    "def animate(i):\n",
    "    line.set_data(temps[:i],res_pot[:i])\n",
    "    \n",
    "    line2.set_data([temps[i]],[res_pot[i]])\n",
    "    line2.set_marker(\"^\")\n",
    "    line2.set_markerfacecolor(\"darkviolet\")\n",
    "    line2.set_markeredgecolor(\"dimgrey\")\n",
    "    \n",
    "    if(i in Lstimu):\n",
    "        line2.set_markersize(6)\n",
    "    else:\n",
    "        line2.set_markersize(0)\n",
    "    return line,line2,"
   ]
  },
  {
   "cell_type": "code",
   "execution_count": 1209,
   "metadata": {
    "collapsed": false
   },
   "outputs": [
    {
     "name": "stdout",
     "output_type": "stream",
     "text": [
      "FAIT\n"
     ]
    }
   ],
   "source": [
    "ani = animation.FuncAnimation(fig, animate,len(res_pot)-2, blit=False,)\n",
    "ani.save(\"test.mp4\",bitrate=-1,fps=5.5)\n",
    "print(\"FAIT\")"
   ]
  },
  {
   "cell_type": "code",
   "execution_count": 29,
   "metadata": {
    "collapsed": false
   },
   "outputs": [
    {
     "data": {
      "text/plain": [
       "200"
      ]
     },
     "execution_count": 29,
     "metadata": {},
     "output_type": "execute_result"
    }
   ],
   "source": [
    "int(N/2)"
   ]
  },
  {
   "cell_type": "code",
   "execution_count": null,
   "metadata": {
    "collapsed": true
   },
   "outputs": [],
   "source": []
  },
  {
   "cell_type": "code",
   "execution_count": null,
   "metadata": {
    "collapsed": true
   },
   "outputs": [],
   "source": []
  },
  {
   "cell_type": "code",
   "execution_count": null,
   "metadata": {
    "collapsed": true
   },
   "outputs": [],
   "source": []
  },
  {
   "cell_type": "code",
   "execution_count": null,
   "metadata": {
    "collapsed": true
   },
   "outputs": [],
   "source": []
  }
 ],
 "metadata": {
  "kernelspec": {
   "display_name": "Python 2",
   "language": "python",
   "name": "python2"
  },
  "language_info": {
   "codemirror_mode": {
    "name": "ipython",
    "version": 2
   },
   "file_extension": ".py",
   "mimetype": "text/x-python",
   "name": "python",
   "nbconvert_exporter": "python",
   "pygments_lexer": "ipython2",
   "version": "2.7.13"
  }
 },
 "nbformat": 4,
 "nbformat_minor": 2
}
