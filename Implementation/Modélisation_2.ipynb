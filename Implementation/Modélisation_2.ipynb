{
 "cells": [
  {
   "cell_type": "code",
   "execution_count": 4,
   "metadata": {
    "collapsed": true
   },
   "outputs": [],
   "source": [
    "import numpy as np\n",
    "import copy\n",
    "import random\n",
    "import matplotlib.pyplot as plt\n",
    "import matplotlib.animation as animation\n",
    "import math\n",
    "\n",
    "N = 10 #number of neurons\n",
    "Vseuil = 60 #the threshold of activation of neuron, in mV, global variable, used in functions\n",
    "Vmax = 120 #Vmax maximum can be attained\n",
    "Vmin= -20 #Vmin minimum can be attained\n",
    "Vmin_ma = -20\n",
    "tau = 10\n",
    "tPA = 1\n",
    "deltaT = 0.1\n",
    "tPH = 0.6\n",
    "tH = 1.2\n",
    "alpha = 0.1\n",
    "nb_steps = 100 #number of simulation\n",
    "beta=0.55 #beta*Vmax"
   ]
  },
  {
   "cell_type": "code",
   "execution_count": 5,
   "metadata": {
    "collapsed": true
   },
   "outputs": [],
   "source": [
    "### Functions for initiations\n",
    "def init_syst_links():\n",
    "    \"\"\"Create a matrix of 2 dimensions which shows the connections between neurons in the system.\n",
    "    Initiated randomly and stay the same always. (a transpose matrix of the regular matrix)\n",
    "    syst_links[i][j] = 1: j connects and can send signal to i, not in reverse\n",
    "    syst_links[i][j] = 0: j doesnt connect to i\n",
    "    syst_links[i][i] = k: the decrease factor of potential of the neuron i\"\"\"\n",
    "    syst_links = np.random.rand(N, N)\n",
    "    for i in range(N):\n",
    "        for j in range(N):\n",
    "            if i != j:\n",
    "                syst_links[i][j] = random.choice([0.0, 1.0]) * (-1) * random.choice([0, 1])\n",
    "            else:\n",
    "                syst_links[i][j] = 1./beta\n",
    "    syst_links.transpose()\n",
    "    return syst_links"
   ]
  },
  {
   "cell_type": "code",
   "execution_count": 6,
   "metadata": {
    "collapsed": true
   },
   "outputs": [],
   "source": [
    "def init_syst_potentiel():\n",
    "    \"\"\"Create a matrix of 2D which shows the potential of each neuron at time t of the simulation.\n",
    "    Initiated randomly.\n",
    "    syst_potentiel[i][j] = 0 for every i != j;\n",
    "    syst_potentiel[i][i] = value of potential of neuron i\"\"\"\n",
    "\n",
    "    syst_potentiel = np.zeros((N, N), dtype=float)\n",
    "    return syst_potentiel"
   ]
  },
  {
   "cell_type": "code",
   "execution_count": 7,
   "metadata": {
    "collapsed": true
   },
   "outputs": [],
   "source": [
    "def init_syst_state():\n",
    "    \"\"\"Create a matrix of size(nb_neuron,1) which shows the state of activation of a neuron.\n",
    "    Initiated randomly.\n",
    "    syst_act[i][0] = 0: neuron i isnt activated, it cant send signal to others\n",
    "    syst_act[i][0] = 1: neuron i is activated and can send signal to others\n",
    "    When the potential of a neuron i passes the threshold, syst_act[i][0] = 1 at the next step\n",
    "    After release all its potential, syst_act[i][0] = 0 at the next step\"\"\"\n",
    "\n",
    "    syst_state = np.zeros((N,1), dtype=int)\n",
    "    return syst_state"
   ]
  },
  {
   "cell_type": "code",
   "execution_count": 8,
   "metadata": {
    "collapsed": true
   },
   "outputs": [],
   "source": [
    "def matrix_Ni(i):\n",
    "    \"\"\"Create a matrix 2D which helps keeping the potential of each neuron of the previous step to the next step\n",
    "    Size: (nb_neuron,1)\n",
    "    Only the i of the neuron in current execution is set to 1. All the others elements are 0.\"\"\"\n",
    "\n",
    "    matrix_Ni = np.zeros((N,1), dtype=int)\n",
    "    matrix_Ni[i][0] = 1\n",
    "    return matrix_Ni"
   ]
  },
  {
   "cell_type": "code",
   "execution_count": 9,
   "metadata": {
    "collapsed": true
   },
   "outputs": [],
   "source": [
    "def init_syst_phase():\n",
    "    \"\"\"Create a matrix of size (N,1) which keeps tracks of the phase of all the neurons in the system.\n",
    "    There are 5 phases stated in the document of algorithme.\"\"\"\n",
    "\n",
    "    syst_phase = np.zeros((N, 1), dtype=float)\n",
    "    return syst_phase"
   ]
  },
  {
   "cell_type": "code",
   "execution_count": 10,
   "metadata": {
    "collapsed": true
   },
   "outputs": [],
   "source": [
    "def init_syst_lambda():\n",
    "    \"\"\"Create a matrix of size (N,1) which helps keep tracks of the coefficient lambda which decides the pourcentage\n",
    "    of Vmax can be attained in the next depolarisation.\"\"\"\n",
    "\n",
    "    syst_lambda = np.ones((N, 1), dtype=float)\n",
    "    return syst_lambda"
   ]
  },
  {
   "cell_type": "code",
   "execution_count": 11,
   "metadata": {
    "collapsed": true
   },
   "outputs": [],
   "source": [
    "def init_time_rest():\n",
    "    \"\"\"Create a matrix of size (N,1) which count the steps taken by all neurons of the system after they were depolarised\"\"\"\n",
    "\n",
    "    time_rest = np.zeros((N, 1), dtype=float)\n",
    "    return time_rest"
   ]
  },
  {
   "cell_type": "code",
   "execution_count": 12,
   "metadata": {
    "collapsed": false
   },
   "outputs": [],
   "source": [
    "def func_act_0(potentiel):\n",
    "    \"\"\"float -> float\n",
    "    The function activate of the system is to modify the potential of each neuron corresponding\n",
    "    to its current phase = 0 and depending on its sum of reception from others\"\"\"\n",
    "    #V_new: potential of neuron after affected by the activate function\n",
    "    V_new=0\n",
    "    if potentiel > 0:\n",
    "        if potentiel < Vseuil:\n",
    "            V_new = potentiel*math.exp(-1. / tau * math.log(100*Vseuil))\n",
    "        else:\n",
    "            V_new = Vseuil\n",
    "    elif potentiel < 0:\n",
    "        if potentiel > Vmin :\n",
    "            V_new = potentiel * math.exp(-1. / tau * math.log(100 * abs(Vmin_ma)))\n",
    "        else :\n",
    "            V_new = Vmin\n",
    "    return V_new\n",
    "\n",
    "def func_act_1(potentiel, lamb):\n",
    "    \"\"\"float -> float\n",
    "    The function activate of the system is to modify the potential of each neuron corresponding\n",
    "    to its current phase = 1 and depending on its sum of reception from others\"\"\"\n",
    "    #V_new: potential of neuron after affected by the activate function\n",
    "    V_new = potentiel + (2 * lamb * (Vmax - Vseuil) * deltaT / (tPA - deltaT))\n",
    "    var = lamb * (Vmax - Vseuil) + Vseuil  # var temporary to stock the value of Vmax of the current depolarisation\n",
    "    if V_new >= var:\n",
    "        V_new = var\n",
    "    return V_new\n",
    "\n",
    "def func_act_2(potentiel, lamb):\n",
    "    \"\"\"float -> float\n",
    "    The function activate of the system is to modify the potential of each neuron corresponding\n",
    "    to its current phase = 2 and depending on its sum of reception from others\"\"\"\n",
    "    #V_new: potential of neuron after affected by the activate function\n",
    "    V_new = potentiel - (2 * lamb * (Vmax - Vseuil) * deltaT / (tPA - deltaT))\n",
    "    if V_new <= Vseuil:\n",
    "        V_new = Vseuil\n",
    "    return V_new\n",
    "\n",
    "def func_act_3(potentiel, lamb):\n",
    "    \"\"\"float -> float\n",
    "    The function activate of the system is to modify the potential of each neuron corresponding\n",
    "    to its current phase = 3 and depending on its sum of reception from others\"\"\"\n",
    "    #V_new: potential of neuron after affected by the activate function\n",
    "    V_new = potentiel - (Vseuil - lamb * Vmin * deltaT) / (math.exp(alpha * (1-lamb)) * tPH)\n",
    "    if V_new < lamb * Vmin:\n",
    "        V_new = lamb * Vmin\n",
    "    return V_new\n",
    "\n",
    "def func_act_4(potentiel, lamb):\n",
    "    \"\"\"float -> float\n",
    "    The function activate of the system is to modify the potential of each neuron corresponding\n",
    "    to its current phase = 4 and depending on its sum of reception from others\"\"\"\n",
    "    #V_new: potential of neuron after affected by the activate function\n",
    "    V_new = potentiel - (lamb * Vmin * deltaT / (math.exp(alpha * (1-lamb)) * tH))\n",
    "    if V_new > 0:\n",
    "        V_new = 0\n",
    "    return V_new"
   ]
  },
  {
   "cell_type": "code",
   "execution_count": 13,
   "metadata": {
    "collapsed": true
   },
   "outputs": [],
   "source": [
    "def update_lamb(lamb, time_rest):\n",
    "    new_lamb = 1-(time_rest / (math.exp(alpha * (1-lamb)) * (tPH + tH) + deltaT))\n",
    "    return new_lamb"
   ]
  },
  {
   "cell_type": "code",
   "execution_count": 14,
   "metadata": {
    "collapsed": true
   },
   "outputs": [],
   "source": [
    "def give_time_ar(lamb):\n",
    "    return math.exp(alpha * (1-lamb)) * (tPH + tH) + deltaT"
   ]
  },
  {
   "cell_type": "code",
   "execution_count": 15,
   "metadata": {
    "collapsed": true
   },
   "outputs": [],
   "source": [
    "def start_syst(syst_potentiel, syst_state, syst_phase):\n",
    "    \"\"\"Send in the information in form electric ranged between 0 and (Vseuil + Vmax)/2 (mV) to kick off the system.\n",
    "    we suppose that this function will only be called when there are no transmission in between the neurons and all the\n",
    "    neurons are at phase 0 (we still wait until the neurones at phase 3 and 4 rest at 0 and turns to phase 0,\n",
    "    meanwhile, others neurons at phase 0 will still decrease as defined)\n",
    "     Return None as the parametres given to the function is already modified\"\"\"\n",
    "\n",
    "    for i in range(N):\n",
    "        syst_potentiel[i][i] = func_act_0(syst_potentiel[i][i] + random.uniform(0, (Vseuil + Vmax)/2))\n",
    "        if syst_potentiel[i][i] >= Vseuil:\n",
    "            syst_state[i][0] = 1\n",
    "            syst_phase[i][0] = 1"
   ]
  },
  {
   "cell_type": "code",
   "execution_count": 16,
   "metadata": {
    "collapsed": true
   },
   "outputs": [],
   "source": [
    "def start_syst_1(syst_potentiel, syst_state, syst_phase, syst_lambda, time_rest):\n",
    "    \"\"\"Send in the information in form electric ranged between 0 and Vseuil (mV) to kick off the system.\n",
    "    we suppose that this function will only be called when there are no transmission in between the neurons which means\n",
    "    all neurons are at phase {0,3,4}. Indeed, if a neuron in phase 3 or 4 is activated after this functions is called,\n",
    "    the new Vmax will be calculated, else, we have to set its lambda back to 1\n",
    "    Return None as the parametres given to the function is already modified\"\"\"\n",
    "\n",
    "    for i in range(N):\n",
    "        syst_potentiel[i][i] = func_act_0(syst_potentiel[i][i] + random.uniform(0, Vseuil))\n",
    "        if syst_potentiel[i][i] >= Vseuil:\n",
    "            if syst_phase[i][0] == 3 or syst_phase[i][0] == 4:\n",
    "                syst_lambda[i][0] = update_lamb(syst_lambda[i][0], time_rest[i][0])\n",
    "            syst_state[i][0] = 1\n",
    "            syst_phase[i][0] = 1\n",
    "        else:\n",
    "            syst_lambda[i][0] = 1\n",
    "            syst_phase[i][0] = 0"
   ]
  },
  {
   "cell_type": "code",
   "execution_count": 17,
   "metadata": {
    "collapsed": true
   },
   "outputs": [],
   "source": [
    "def non_transmittable(syst_state, syst_phase):\n",
    "    \"\"\"Verify if there is no transmission between neurons and all neurons are at phase 0\n",
    "    This function is compatible with the function start_syst\n",
    "    return a bool\"\"\"\n",
    "    res = True\n",
    "    for i in range(N):\n",
    "        if syst_state[i][0] == 0 or syst_phase[i][0] != 0:\n",
    "            res = False\n",
    "            break\n",
    "    return res"
   ]
  },
  {
   "cell_type": "code",
   "execution_count": 18,
   "metadata": {
    "collapsed": true
   },
   "outputs": [],
   "source": [
    "def non_transmittable_1(syst_state):\n",
    "    \"\"\"Verify if there is no transmission between neurons\n",
    "    This function is compatible with the function start_syst_1\n",
    "    return a bool\"\"\"\n",
    "    res = True\n",
    "    for i in range(N):\n",
    "        if syst_state[i][0] == 1:\n",
    "            res = False\n",
    "            break\n",
    "    return res"
   ]
  },
  {
   "cell_type": "code",
   "execution_count": 21,
   "metadata": {
    "collapsed": false
   },
   "outputs": [],
   "source": [
    "def update_system(syst_potentiel, syst_links, syst_state, syst_phase, syst_lambda, time_rest):\n",
    "    \"\"\"matrix(N,N) ^2 * matrix(N,1) ^5 -> tuple(matrix(N,N), matrix(N,1))\n",
    "    Calculate the potentials of all the neurons at the time t+1 and also update theirs state at time t+1 (activated or not)\n",
    "    All neurons will be update simultaneously.\n",
    "    Return the potentials and their states of the whole system in form matrix.\"\"\"\n",
    "    new_syst_potentiel = init_syst_potentiel()\n",
    "    new_syst_state = copy.deepcopy(syst_state)\n",
    "    var = 0 #variable temporary\n",
    "    for i in range(N):\n",
    "        \n",
    "\n",
    "        if syst_state[i][0] == 0:\n",
    "            #if a neuron is not in the potential of action, it will receive from others (phase = {0,3,4})\n",
    "            var = beta*np.dot(syst_links[i], np.dot(syst_potentiel, syst_state + matrix_Ni(i)) + (-Vseuil) * syst_state)\n",
    "            \n",
    "            if time_rest[i][0]>0 :\n",
    "                time_rest[i][0] = time_rest[i][0]-deltaT\n",
    "            else :\n",
    "            #the neuron has wait enough to reach Vmax on the next depolarization\n",
    "                syst_lambda[i][0]=1\n",
    "                time_rest[i][0] = 0\n",
    "        else:\n",
    "            #else it will not receive transmission from others and behaves as defined ( phase = {1,2})\n",
    "            var = syst_potentiel[i][i]\n",
    "        #var stocks the sum of potential that a neuron has after receiving from others (period of transmission between\n",
    "        #neurones) and before affected by func_act\n",
    "        \n",
    "        if syst_phase[i][0] == 0:\n",
    "            new_syst_potentiel[i][i]=func_act_0(var)\n",
    "            if new_syst_potentiel[i][i] == Vseuil:\n",
    "                new_syst_state[i][0] = 1\n",
    "                syst_phase[i][0] = 1\n",
    "                \n",
    "                if time_rest[i][0]!=0 :\n",
    "                    syst_lambda[i][0] = update_lamb(syst_lambda[i][0], time_rest[i][0])\n",
    "                    time_rest[i][0]=give_time_ar(syst_lambda[i][0])\n",
    "                else :\n",
    "                    time_rest[i][0]=give_time_ar(syst_lambda[i][0])\n",
    "                \n",
    "\n",
    "        elif syst_phase[i][0] == 1:\n",
    "            new_syst_potentiel[i][i] = func_act_1(var, syst_lambda[i][0])\n",
    "            Vmax_current = syst_lambda[i][0] * (Vmax - Vseuil) + Vseuil\n",
    "            if new_syst_potentiel[i][i] == Vmax_current:\n",
    "                syst_phase[i][0] = 2\n",
    "\n",
    "        elif syst_phase[i][0] == 2:\n",
    "            new_syst_potentiel[i][i] = func_act_2(var, syst_lambda[i][0])\n",
    "            if new_syst_potentiel[i][i] == Vseuil:\n",
    "                new_syst_state[i][0] = 0\n",
    "                syst_phase[i][0] = 3\n",
    "                \n",
    "\n",
    "                \n",
    "        elif syst_phase[i][0] == 3:\n",
    "                   \n",
    "            if var!=syst_potentiel[i][i] :\n",
    "                syst_phase[i][0] = 0\n",
    "                new_syst_potentiel[i][i]=func_act_0(var)\n",
    "                \n",
    "            else:\n",
    "                #the neuron in phase 3 doesn't receive any potential from others so it will continue to decrease by the\n",
    "                #function defined for this phase\n",
    "                new_syst_potentiel[i][i] = func_act_3(var, syst_lambda[i][0])\n",
    "                \n",
    "                if new_syst_potentiel[i][i] == syst_lambda[i][0] * Vmin:\n",
    "                    syst_phase[i][0] = 4\n",
    "\n",
    "        elif syst_phase[i][0] == 4:\n",
    "            \n",
    "            if var!=syst_potentiel[i][i] :\n",
    "                syst_phase[i][0] = 0\n",
    "                new_syst_potentiel[i][i]=func_act_0(var)\n",
    "                 \n",
    "            else:\n",
    "                new_syst_potentiel[i][i] = func_act_4(var, syst_lambda[i][0])\n",
    "                \n",
    "                    \n",
    "                if new_syst_potentiel[i][i] == 0:\n",
    "                    #after a neuron of phase 4 reaches 0, everything is set back to starting point\n",
    "                    syst_phase[i][0] = 0\n",
    "                    \n",
    "    \n",
    "    return (new_syst_potentiel, new_syst_state,time_rest)\n"
   ]
  },
  {
   "cell_type": "code",
   "execution_count": 22,
   "metadata": {
    "collapsed": true
   },
   "outputs": [],
   "source": [
    "def simulation(syst_potentiel, syst_links, syst_state, syst_phase, syst_lambda, time_rest, nb_steps):\n",
    "    \"\"\"Return a list of all the matrixes, each matrix shows the potentials of the system\n",
    "    at moment t\"\"\"\n",
    "    # res_potentiels: list[matrix(N,N)]\n",
    "    #res_states: list[matrix(N,1)]\n",
    "    res_potentiels = []\n",
    "    res_states = []\n",
    "    res_lambda=[]\n",
    "    res_time=[]\n",
    "    res_phase=[]\n",
    "\n",
    "    new_p = copy.deepcopy(syst_potentiel)\n",
    "    res_potentiels.append(new_p.copy())\n",
    "    new_s = copy.deepcopy(syst_state)\n",
    "    res_states.append(new_s)\n",
    "    res_time.append(copy.deepcopy(time_rest))\n",
    "    res_phase.append(copy.deepcopy(syst_phase))\n",
    "\n",
    "    for i in range(nb_steps):\n",
    "        #if non_transmittable_1(new_s):\n",
    "            #normally it's improbable for this condition to occur when the neural network contains millions of neurons\n",
    "            #but in the system with a small number of neuron, this condition makes sure the system will run continuously\n",
    "            #start_syst_1(new_p, new_s, syst_phase, syst_lambda, time_rest)\n",
    "        #else:\n",
    "        new_p, new_s,time_rest = update_system(new_p, syst_links, new_s, syst_phase, syst_lambda, time_rest)\n",
    "\n",
    "        res_potentiels.append(copy.deepcopy(new_p))\n",
    "        res_states.append(copy.deepcopy(new_s))\n",
    "        res_lambda.append(copy.deepcopy(syst_lambda))\n",
    "        res_time.append(copy.deepcopy(time_rest))\n",
    "        res_phase.append(copy.deepcopy(syst_phase))\n",
    "        \n",
    "    return (res_potentiels, res_states,res_lambda,res_time,res_phase)"
   ]
  },
  {
   "cell_type": "code",
   "execution_count": 23,
   "metadata": {
    "collapsed": false
   },
   "outputs": [],
   "source": [
    "Vt = init_syst_potentiel()\n",
    "C = init_syst_links()\n",
    "Tt = init_syst_state()\n",
    "E = init_syst_phase()\n",
    "lamb = init_syst_lambda()\n",
    "Tar = init_time_rest()"
   ]
  },
  {
   "cell_type": "code",
   "execution_count": 24,
   "metadata": {
    "collapsed": false
   },
   "outputs": [],
   "source": [
    "start_syst(Vt, Tt, E)\n",
    "res_potentials, res_states,res_lambda,res_time,res_phase = simulation(Vt, C, Tt, E, lamb, Tar, nb_steps)"
   ]
  },
  {
   "cell_type": "code",
   "execution_count": 27,
   "metadata": {
    "collapsed": false
   },
   "outputs": [
    {
     "data": {
      "text/plain": [
       "array([[ 60.        ,   0.        ,   0.        ,   0.        ,\n",
       "          0.        ,   0.        ,   0.        ,   0.        ,\n",
       "          0.        ,   0.        ],\n",
       "       [  0.        ,   2.05404873,   0.        ,   0.        ,\n",
       "          0.        ,   0.        ,   0.        ,   0.        ,\n",
       "          0.        ,   0.        ],\n",
       "       [  0.        ,   0.        ,   6.47955815,   0.        ,\n",
       "          0.        ,   0.        ,   0.        ,   0.        ,\n",
       "          0.        ,   0.        ],\n",
       "       [  0.        ,   0.        ,   0.        ,  60.        ,\n",
       "          0.        ,   0.        ,   0.        ,   0.        ,\n",
       "          0.        ,   0.        ],\n",
       "       [  0.        ,   0.        ,   0.        ,   0.        ,\n",
       "         21.88874332,   0.        ,   0.        ,   0.        ,\n",
       "          0.        ,   0.        ],\n",
       "       [  0.        ,   0.        ,   0.        ,   0.        ,\n",
       "          0.        ,  60.        ,   0.        ,   0.        ,\n",
       "          0.        ,   0.        ],\n",
       "       [  0.        ,   0.        ,   0.        ,   0.        ,\n",
       "          0.        ,   0.        ,  12.7302914 ,   0.        ,\n",
       "          0.        ,   0.        ],\n",
       "       [  0.        ,   0.        ,   0.        ,   0.        ,\n",
       "          0.        ,   0.        ,   0.        ,  23.21827211,\n",
       "          0.        ,   0.        ],\n",
       "       [  0.        ,   0.        ,   0.        ,   0.        ,\n",
       "          0.        ,   0.        ,   0.        ,   0.        ,\n",
       "         60.        ,   0.        ],\n",
       "       [  0.        ,   0.        ,   0.        ,   0.        ,\n",
       "          0.        ,   0.        ,   0.        ,   0.        ,\n",
       "          0.        ,   0.1436209 ]])"
      ]
     },
     "execution_count": 27,
     "metadata": {},
     "output_type": "execute_result"
    }
   ],
   "source": [
    "i=0\n",
    "#print(res_time[i])\n",
    "#print(res_phase[i])\n",
    "res_potentials[i]"
   ]
  },
  {
   "cell_type": "code",
   "execution_count": 28,
   "metadata": {
    "collapsed": true
   },
   "outputs": [],
   "source": [
    "import numpy as np\n",
    "beta=0.5\n",
    "\n",
    "Vt = init_syst_potentiel()\n",
    "C = init_syst_links()\n",
    "Tt = init_syst_state()\n",
    "E = init_syst_phase()\n",
    "lamb = init_syst_lambda()\n",
    "Tar = init_time_rest()\n",
    "\n",
    "\n",
    "res_pot=[]\n",
    "r=[]\n",
    "\n",
    "Vt[0][0]=0\n",
    "Vt[1][1]=0\n",
    "Tt[0][0]=0\n",
    "Tt[1][0]=0\n",
    "E[0][0]=0\n",
    "E[1][0]=0\n",
    "new_p = copy.deepcopy(Vt)\n",
    "new_s = copy.deepcopy(Tt)\n",
    "\n",
    "for k in range(N):\n",
    "    if(k!=0):\n",
    "        C[0][k]=0\n",
    "        C[k][0]=0\n",
    "C[0][1]=1\n",
    "C[0][2]=1\n",
    "#set only one entry for the neuron one\n",
    "res_pot=[]\n"
   ]
  },
  {
   "cell_type": "code",
   "execution_count": 79,
   "metadata": {
    "collapsed": false
   },
   "outputs": [
    {
     "name": "stdout",
     "output_type": "stream",
     "text": [
      "potentiel neurone 0 : 0.000947799306079\n"
     ]
    }
   ],
   "source": [
    "i=1\n",
    "\n",
    "stimu1=0 #stimu=1 : simulate an entry / stimu=0 no entry for the neuron one\n",
    "stimu2=0\n",
    "\n",
    "if stimu1==1 :\n",
    "    if(new_s[1][0]!=1):\n",
    "        new_p[1][1]=Vseuil\n",
    "        new_s[1][0]=1\n",
    "        E[1][0]=1\n",
    "        lamb[1][0]=1\n",
    "        print(\"neurone 1 : fin de dépolarisation\")\n",
    "\n",
    "if stimu2==1:\n",
    "    if(new_s[2][0]!=1):\n",
    "        new_p[2][2]=Vseuil\n",
    "        new_s[2][0]=1\n",
    "        E[2][0]=1\n",
    "        lamb[2][0]=1\n",
    "        print(\"neurone 2 : fin de dépolarisation\")\n",
    "\n",
    "\n",
    "    \n",
    "if(new_s[0][0]==1):\n",
    "    print(\"dépolarisation\")\n",
    "    for k in range(int(tPA/deltaT)):\n",
    "        new_p, new_s,r = update_system(new_p, C, new_s, E, lamb, Tar)\n",
    "        res_pot.append(new_p[0][0])\n",
    "else:\n",
    "    new_p, new_s,r = update_system(new_p, C, new_s, E, lamb, Tar)\n",
    "    res_pot.append(new_p[0][0])\n",
    "    \n",
    "print(\"potentiel neurone 0 : \"+str(new_p[0][0]))\n",
    "\n"
   ]
  },
  {
   "cell_type": "code",
   "execution_count": 80,
   "metadata": {
    "collapsed": false,
    "scrolled": true
   },
   "outputs": [
    {
     "data": {
      "image/png": "[encoded data removed]",
      "text/plain": [
       "<matplotlib.figure.Figure at 0xa0e09b0>"
      ]
     },
     "metadata": {},
     "output_type": "display_data"
    }
   ],
   "source": [
    "plt.plot([i for i in range(len(res_pot))],res_pot,color='red')\n",
    "plt.show()"
   ]
  },
  {
   "cell_type": "code",
   "execution_count": 3972,
   "metadata": {
    "collapsed": false
   },
   "outputs": [
    {
     "data": {
      "text/plain": [
       "1.0526315789473684"
      ]
     },
     "execution_count": 3972,
     "metadata": {},
     "output_type": "execute_result"
    }
   ],
   "source": [
    "lamb=1\n",
    "2/(math.exp(alpha * (1-lamb)) * (tPH + tH) + deltaT)"
   ]
  }
 ],
 "metadata": {
  "kernelspec": {
   "display_name": "Python 2",
   "language": "python",
   "name": "python2"
  },
  "language_info": {
   "codemirror_mode": {
    "name": "ipython",
    "version": 2
   },
   "file_extension": ".py",
   "mimetype": "text/x-python",
   "name": "python",
   "nbconvert_exporter": "python",
   "pygments_lexer": "ipython2",
   "version": "2.7.13"
  }
 },
 "nbformat": 4,
 "nbformat_minor": 2
}
