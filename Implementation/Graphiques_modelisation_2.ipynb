{
 "cells": [
  {
   "cell_type": "code",
   "execution_count": 1,
   "metadata": {
    "collapsed": false
   },
   "outputs": [],
   "source": [
    "import numpy as np\n",
    "import copy\n",
    "import random\n",
    "import matplotlib.pyplot as plt\n",
    "import matplotlib.animation as animation\n",
    "import math\n",
    "import matplotlib.lines as mlines\n",
    "\n",
    "import module_reseau_neurone as modN"
   ]
  },
  {
   "cell_type": "code",
   "execution_count": 2,
   "metadata": {
    "collapsed": true
   },
   "outputs": [],
   "source": [
    "N = 100 #number of neurons\n",
    "Vseuil = 60 #the threshold of activation of neuron, in mV, global variable, used in functions\n",
    "Vmax = 120 #90 #Vmax maximum can be attained\n",
    "Vmin= -10 #-15 #Vmin minimum can be attained\n",
    "Vmin_ma = -20\n",
    "tau_min = 10\n",
    "tau_max=20\n",
    "tPA = 1 #0.2\n",
    "deltaT = 0.1 #0.1\n",
    "tPH = 0.6 #0.9\n",
    "tH = 1.1 #1.1\n",
    "alpha = 0.1 #0.1\n",
    "nb_steps = 100 #number of simulation\n",
    "beta=0.4 #beta*Vmax\n",
    "\n",
    "modN.ini_params(N,Vseuil,Vmax,Vmin,Vmin_ma,tau_min,tau_max,tPA,deltaT,tPH,tH,alpha,nb_steps,beta)"
   ]
  },
  {
   "cell_type": "code",
   "execution_count": 3,
   "metadata": {
    "collapsed": false
   },
   "outputs": [],
   "source": [
    "Vt = modN.init_syst_potentiel()\n",
    "C = modN.init_syst_links_weights()\n",
    "Tt = modN.init_syst_state()\n",
    "E = modN.init_syst_phase()\n",
    "lamb = modN.init_syst_lambda()\n",
    "Tar = modN.init_time_rest()\n",
    "Cn,Ce,Ci=modN.decompose_syst_links_alcohol(C,np.array([]),np.array([]),np.array([]),0,0)"
   ]
  },
  {
   "cell_type": "code",
   "execution_count": 4,
   "metadata": {
    "collapsed": false
   },
   "outputs": [],
   "source": [
    "modN.start_syst(Vt, Tt, E)\n",
    "res_potentials, res_states= modN.simulation(Vt, Cn,Ce,Ci, Tt, E, lamb, Tar, nb_steps)"
   ]
  },
  {
   "cell_type": "code",
   "execution_count": null,
   "metadata": {
    "collapsed": true
   },
   "outputs": [],
   "source": [
    "def simulation(syst_potentiel, syst_links_n,syst_links_e,syst_links_i, syst_state, syst_phase, syst_lambda, time_rest, nb_steps):\n",
    "    \"\"\"Return a list of all the matrixes, each matrix shows the potentials of the system\n",
    "    at moment t\"\"\"\n",
    "    # res_potentiels: list[matrix(N,N)]\n",
    "    #res_states: list[matrix(N,1)]\n",
    "    res_potentiels = []\n",
    "    res_states = []\n",
    "\n",
    "\n",
    "    new_p = copy.deepcopy(syst_potentiel)\n",
    "    res_potentiels.append(new_p.copy())\n",
    "    new_s = copy.deepcopy(syst_state)\n",
    "    res_states.append(new_s)\n",
    "\n",
    "\n",
    "    for i in range(nb_steps):\n",
    "        \n",
    "        new_p, new_s = modN.update_system(new_p, syst_links_n,syst_links_e, new_s, syst_phase, syst_lambda, time_rest)\n",
    "\n",
    "        res_potentiels.append(copy.deepcopy(new_p))\n",
    "        res_states.append(copy.deepcopy(new_s))\n",
    "        \n",
    "    return (res_potentiels, res_states)"
   ]
  },
  {
   "cell_type": "code",
   "execution_count": null,
   "metadata": {
    "collapsed": true
   },
   "outputs": [],
   "source": [
    "start_syst(Vt, Tt, E)\n",
    "res_potentials, res_states= simulation(Vt, Cn,Ce,Ci, Tt, E, lamb, Tar, nb_steps)"
   ]
  },
  {
   "cell_type": "markdown",
   "metadata": {},
   "source": [
    "# Etude de l'acitivité électrique du réseau "
   ]
  },
  {
   "cell_type": "code",
   "execution_count": null,
   "metadata": {
    "collapsed": false
   },
   "outputs": [],
   "source": [
    "def trace_potential(resultat_potentials,resultat_states):\n",
    "    '''return a figure of the evolution of the potential of the network throught time\n",
    "        resultat_potentials : a list that contains the potentials of neurons\n",
    "        resultat_states : a list that contains the sate of neurons\n",
    "        color : color of the plot\n",
    "        fig_size : tuple that contain size of the plot \n",
    "        linewidth : size of line in the plot'''\n",
    "    \n",
    "    Lx=[]\n",
    "    Ly=[]\n",
    "    Sm=0 #moyenne des neurones en activité sur l'ensemble du test\n",
    "    \n",
    "    for j in range(len(resultat_potentials)):\n",
    "        S=0 #Sum of the potentiel at a specific time, in fact the time j*delta_t\n",
    "        nb_neuron_a=0 #nombre de neurone actif au temps j\n",
    "        Lx.append(j)\n",
    "        for i  in range(len(resultat_potentials[j])):\n",
    "            if(resultat_states[j][i][0]==1):\n",
    "                S=S+resultat_potentials[j][i][i] #the potential of the neuron i is on the diagonal (matrix index (i,i)) of the matrix res_graphique[j]\n",
    "                nb_neuron_a+=1\n",
    "        Sm+=nb_neuron_a\n",
    "        Ly.append(S)\n",
    "    \n",
    "    Sm=1.*Sm/len(resultat_potentials)\n",
    "    \n",
    "    m=max(Ly)\n",
    "    for k in range(len(Ly)):\n",
    "        Ly[k]=1.*Ly[k]/m\n",
    "        \n",
    "    return (Lx,Ly,Sm)"
   ]
  },
  {
   "cell_type": "markdown",
   "metadata": {},
   "source": [
    "## Tracé de l'evolution du nombre moyen de neurone actifs en fonction des valeurs de beta (et selon le nombre de neurones du réseau)"
   ]
  },
  {
   "cell_type": "code",
   "execution_count": null,
   "metadata": {
    "collapsed": false
   },
   "outputs": [],
   "source": [
    "Ltau=np.arange(1,20, 1) #valeur prise par beta\n",
    "LN=[10]#LN=[10,100,400] #nombre de neurone (ex : LN=[10,100,400])\n",
    "beta=3\n",
    "LmoyN=[]\n",
    "for N in LN:\n",
    "    modN.ini_params(N,Vseuil,Vmax,Vmin,Vmin_ma,tau_min,tau_max,tPA,deltaT,tPH,tH,alpha,nb_steps,beta)\n",
    "    Vti = modN.init_syst_potentiel()\n",
    "    Cli = modN.init_syst_links_weights()\n",
    "    Cn,Ce,Ci=modN.decompose_syst_links_alcohol(Cli,np.array([]),np.array([]),np.array([]),0,0)\n",
    "    Tti = modN.init_syst_state()\n",
    "    Ei = modN.init_syst_phase()\n",
    "    lambi = modN.init_syst_lambda()\n",
    "    Tari = modN.init_time_rest()\n",
    "    modN.start_syst(Vti, Tti, Ei)\n",
    "\n",
    "    Lneurone_actif=[]\n",
    "    for tau_min in Ltau:\n",
    "\n",
    "        modN.ini_params(N,Vseuil,Vmax,Vmin,Vmin_ma,tau_min,2*tau_min,tPA,deltaT,tPH,tH,alpha,nb_steps,beta)\n",
    "\n",
    "        for k in range(len(Cn)):\n",
    "            Cn[k][k]=1./beta\n",
    "        Vt=copy.deepcopy(Vti)\n",
    "        Tt=copy.deepcopy(Tti)\n",
    "        E=copy.deepcopy(Ei)\n",
    "        lamb=copy.deepcopy(lambi)\n",
    "        Tar=copy.deepcopy(Tari)\n",
    "\n",
    "        res_potentials, res_states= simulation(Vt, Cn,Ce,Ci, Tt, E, lamb, Tar, nb_steps)\n",
    "\n",
    "\n",
    "        Lx,Ly,M=trace_potential(res_potentials,res_states)\n",
    "        \n",
    "        Lneurone_actif.append(M)\n",
    "\n",
    "    LmoyN.append(copy.deepcopy(Lneurone_actif))"
   ]
  },
  {
   "cell_type": "markdown",
   "metadata": {},
   "source": [
    "### Affichage des résultats"
   ]
  },
  {
   "cell_type": "code",
   "execution_count": null,
   "metadata": {
    "collapsed": false
   },
   "outputs": [],
   "source": [
    "fig_size=(10,10)\n",
    "linewidth=2\n",
    "\n",
    "fig=plt.figure(figsize=fig_size)\n",
    "ax = fig.add_subplot(111)\n",
    "ax.set_xlabel(\"Valeur de beta\")\n",
    "ax.set_ylabel('Nombre de neurone actif en moyenne sur '+str(nb_steps*deltaT)+\" ms\")\n",
    "\n",
    "for k in range(len(LN)):\n",
    "    plt.plot(Ltau,LmoyN[k], linewidth=linewidth,label=str(LN[k])+\" neurones\")\n",
    "\n",
    "ax.legend()\n",
    "fig.savefig(\"test.pdf\")\n",
    "fig"
   ]
  },
  {
   "cell_type": "markdown",
   "metadata": {},
   "source": [
    "## Evolution du nombre de neurone actifs selon beta pour une simulation"
   ]
  },
  {
   "cell_type": "code",
   "execution_count": 55,
   "metadata": {
    "collapsed": false
   },
   "outputs": [],
   "source": [
    "def write_matrix(M):\n",
    "    imax,jmax=M.shape\n",
    "    M_to_text=\"np.array([\"\n",
    "    for i in range(imax):\n",
    "        M_to_text+=\"[\"+str(M[i][0])\n",
    "        for j in range(1,jmax):\n",
    "            M_to_text+=\",\"+str(M[i][j])\n",
    "        \n",
    "        if(i==imax-1):\n",
    "            M_to_text+=\"]\"\n",
    "        else:\n",
    "            M_to_text+=\"],\"\n",
    "    M_to_text+=\"])\"\n",
    "    \n",
    "    return M_to_text\n",
    "\n",
    "\n",
    "def write_info_to_file(filename=\"test\"):\n",
    "    mon_fichier = open(filename+\".txt\", \"w\")\n",
    "    label=\"N= \"+str(N)+\"\\nVseuil= \"+str(Vseuil)+\"\\nVmax= \"+str(Vmax)+\"\\nVmin= \"+str(Vmin)+\"\\nVmin_ma= \"+str(Vmin_ma)\n",
    "    label=label+\"\\ntau_min= \"+str(tau_min)+\"\\ntau_max= \"+str(tau_max)+\"\\ntPA= \"+str(tPA)+\"\\ndeltaT= \"+str(deltaT)\n",
    "    label=label+\"\\ntPH= \"+str(tPH)+\"\\ntH= \"+str(tH)+\"\\nalpha= \"+str(alpha)+\"\\nbeta= \"+str(beta)+\"\\nnb_steps= \"+str(nb_steps)\n",
    "\n",
    "    label=label+\"\\n\\n\"+\"temps= \"+str(Lx)+\"\\n\\npotentiel_total= \"+str(Ly)+\"\\n\\nnombre_moyen_neurone_actif= \"+str(M)\n",
    "\n",
    "    label=label+\"\\n\\n\\npotentiel= \"+str(res_potentials)+\"\\n\\netat_neurone= \"+str(res_states)\n",
    "    \n",
    "    label=label+\"\\n\\n\\nC= \"+write_matrix(C)+\"\\n\\nCn= \"+write_matrix(Cn)+\"\\n\\nCe= \"+write_matrix(Cn)+\"\\n\\nCi= \"+write_matrix(Cn)\n",
    "\n",
    "    mon_fichier.write(label)\n",
    "    mon_fichier.close()\n",
    "    print(\"FAIT\")\n",
    "    \n",
    "    return None"
   ]
  },
  {
   "cell_type": "code",
   "execution_count": null,
   "metadata": {
    "collapsed": false
   },
   "outputs": [],
   "source": [
    "N=20\n",
    "beta=2\n",
    "\n",
    "modN.ini_params(N,Vseuil,Vmax,Vmin,Vmin_ma,tau_min,tau_max,tPA,deltaT,tPH,tH,alpha,nb_steps,beta)\n",
    "Vt = modN.init_syst_potentiel()\n",
    "C = modN.init_syst_links_weights()\n",
    "Cn,Ce,Ci=modN.decompose_syst_links_alcohol(C,np.array([]),np.array([]),np.array([]),0,0)\n",
    "Tt = modN.init_syst_state()\n",
    "E = modN.init_syst_phase()\n",
    "lamb = modN.init_syst_lambda()\n",
    "Tar = modN.init_time_rest()\n",
    "\n",
    "modN.start_syst(Vt, Tt, E)\n",
    "res_potentials, res_states= simulation(Vt, Cn,Ce,Ci, Tt, E, lamb, Tar, nb_steps)"
   ]
  },
  {
   "cell_type": "code",
   "execution_count": null,
   "metadata": {
    "collapsed": false
   },
   "outputs": [],
   "source": [
    "fig_size=(10,10)\n",
    "color=\"red\"\n",
    "linewidth=2\n",
    "\n",
    "fig=plt.figure(figsize=fig_size)\n",
    "ax = fig.add_subplot(111)\n",
    "ax.set_xlabel(\"Temps (ms)\\n10 ud = \"+str(deltaT*10)+ \" ms\")\n",
    "ax.set_ylabel('Potentiel / Potentiel_max (mV)')\n",
    "\n",
    "\n",
    "\n",
    "Lx,Ly,M=trace_potential(res_potentials,res_states)\n",
    "\n",
    "plt.plot(Lx,Ly,color=color, linewidth=linewidth,label=\"Neurone= \"+str(N)+\"\\nbeta= \"+str(beta))\n",
    "ax.legend()\n",
    "fig.savefig(\"test.pdf\")\n",
    "write_info_to_file()\n",
    "fig #show the figure"
   ]
  },
  {
   "cell_type": "markdown",
   "metadata": {},
   "source": [
    "# Evolution du réseau de neurone\n",
    "\n",
    "## Mise en forme des résultats"
   ]
  },
  {
   "cell_type": "code",
   "execution_count": null,
   "metadata": {
    "collapsed": true
   },
   "outputs": [],
   "source": [
    "def in_list(L,element,radius):\n",
    "    res=False\n",
    "    for k in range(len(L)):\n",
    "        if((element[0]-L[k][0])**2+(element[1]-L[k][1])**2<=radius**2):\n",
    "            res=True\n",
    "    return res"
   ]
  },
  {
   "cell_type": "code",
   "execution_count": null,
   "metadata": {
    "collapsed": true
   },
   "outputs": [],
   "source": [
    "def annimate_network_ini(resultat_potentials,resultat_states,C,radius=2):\n",
    "    \n",
    "    N=2*len(resultat_states[0]) #N= number of neurons in the network\n",
    "    Lo=[]\n",
    "    \n",
    "    \n",
    "    for i in range(N):\n",
    "        E=[random.uniform(0,N),random.uniform(0,N)]\n",
    "        while in_list(Lo,E,radius):\n",
    "            E=[random.uniform(0,N),random.uniform(0,N)] \n",
    "        Lo.append(E)\n",
    "    print(\"Organisation spatiale faite\")\n",
    "    #Lo contains the coordinates of 2D array that will help to have a spacial organization of the ntework\n",
    "    \n",
    "    LcoordX=[]\n",
    "    LcoordY=[]\n",
    "    Lpotent=[]\n",
    "    \n",
    "    for k in range(len(resultat_states)):\n",
    "        Lx=[] #temporary variable\n",
    "        Ly=[]\n",
    "        Lp=[]\n",
    "        for l in range(len(resultat_states[k])):\n",
    "            if(resultat_states[k][l]==1): #the l neurons has been activated on the previous step\n",
    "                #Below, we want to show the link beteween the neuro which was activated and the neurons which will receive the signal\n",
    "                for i in range(len(C)):\n",
    "                    if (C[i][l]!=0 and l!=i):\n",
    "                        Lx.append([Lo[l][0],Lo[i][0]])\n",
    "                        #L.append([coord_x_neuron_l,coord_y_neuron_l],[coord_x_neuron_i,coord_y_neuron_i])\n",
    "                        #After we will plot a line between the neuron l and i\n",
    "                        Ly.append([Lo[l][1],Lo[i][1]])\n",
    "                        \n",
    "                        Lp.append([resultat_potentials[k][l][l],abs(C[i][l])*resultat_potentials[k][l][l]])\n",
    "            else :\n",
    "                Lx.append([Lo[l][0],-1])\n",
    "                Ly.append([Lo[l][1],-1])\n",
    "                Lp.append([resultat_potentials[k][l][l],-1])\n",
    "                        \n",
    "        LcoordX.append(copy.deepcopy(Lx))\n",
    "        LcoordY.append(copy.deepcopy(Ly))\n",
    "        Lpotent.append(copy.deepcopy(Lp))\n",
    "        #On a single step of the animation we have to plot all the link between neurons which were activated\n",
    "    \n",
    "    print(\"FIN\")\n",
    "    \n",
    "    return LcoordX,LcoordY,Lpotent,N"
   ]
  },
  {
   "cell_type": "code",
   "execution_count": null,
   "metadata": {
    "collapsed": false
   },
   "outputs": [],
   "source": [
    "LcoordX,LcoordY,Lpotent,N=annimate_network_ini(res_potentials,res_states,C,radius=2)"
   ]
  },
  {
   "cell_type": "markdown",
   "metadata": {},
   "source": [
    "## Aperçu graphique"
   ]
  },
  {
   "cell_type": "code",
   "execution_count": null,
   "metadata": {
    "collapsed": false
   },
   "outputs": [],
   "source": [
    "i=0\n",
    "s=len(LcoordX[i])\n",
    "for k in range(s):\n",
    "    plt.plot(LcoordX[i][k][0],LcoordY[i][k][0],marker='o',markeredgecolor='red')\n",
    "    plt.plot(LcoordX[i][k][1],LcoordY[i][k][1],marker='o',markeredgecolor='red')\n",
    "plt.show()"
   ]
  },
  {
   "cell_type": "markdown",
   "metadata": {},
   "source": [
    "## Création de l'animation"
   ]
  },
  {
   "cell_type": "code",
   "execution_count": null,
   "metadata": {
    "collapsed": false
   },
   "outputs": [],
   "source": [
    "Lvars=[0,beta*Vmax,10,5,1] #[max_object_line,beta*Vmax,markersize_max,markersize_min,line_size_max]\n",
    "for L in LcoordX:\n",
    "    if len(L)>Lvars[0]:\n",
    "        Lvars[0]=len(L)\n",
    "#We have to plot Lvars[0] line. So we have to create Lvars[0] object line\n",
    "fig, ax= plt.subplots()\n",
    "\n",
    "for k in range(Lvars[0]):\n",
    "    vars()['line'+str(k)],=ax.plot(0, 0, color='k')\n",
    "    eval('line'+str(k)).axes.axis([0-Lvars[2], N+Lvars[2], 0-Lvars[2], N+Lvars[2]])\n",
    "    #initialization of the Lvars[0] object line\n",
    "    ax.set_facecolor(\"dimgrey\")\n",
    "\n",
    "def animate(i):\n",
    "    t=() #tuple \n",
    "\n",
    "    s=len(LcoordX[i])\n",
    "    for k in range(Lvars[0]):\n",
    "        if(k<s): \n",
    "            markersize=abs(Lpotent[i][k][0])*(Lvars[2]-Lvars[3])/Lvars[1]+Lvars[3]\n",
    "\n",
    "            X=LcoordX[i][k]\n",
    "            Y=LcoordY[i][k]\n",
    "            \n",
    "            if(LcoordX[i][k][1]==-1):\n",
    "                X=[LcoordX[i][k][0],LcoordX[i][k][0]+markersize]\n",
    "                Y=[LcoordY[i][k][0],LcoordY[i][k][0]+markersize]\n",
    "                linesize=0\n",
    "                \n",
    "                if Lpotent[i][k][0]>0:\n",
    "                    color=\"yellowgreen\"\n",
    "                else :\n",
    "                    color=\"c\"\n",
    "            else :\n",
    "                linesize=Lpotent[i][k][1]*Lvars[4]/Lvars[1]\n",
    "                color=\"orangered\"\n",
    "            \n",
    "            eval('line'+str(k)).set_data(LcoordX[i][k],LcoordY[i][k])\n",
    "            eval('line'+str(k)).set_marker('o')\n",
    "            eval('line'+str(k)).set_markersize(markersize)\n",
    "            eval('line'+str(k)).set_markerfacecolor(color)\n",
    "            eval('line'+str(k)).set_markeredgecolor(color)\n",
    "            eval('line'+str(k)).set_markevery(2) \n",
    "            #allow to plot marker only on the start of the line (the neuron which has been activated)\n",
    "            #the value is equal to 2 because we plot line by line (just with 2 points)\n",
    "            eval('line'+str(k)).set_linewidth(linesize)\n",
    "            eval('line'+str(k)).set_color(\"orange\")\n",
    "            \n",
    "        else :\n",
    "            eval('line'+str(k)).set_data(0,0)\n",
    "            eval('line'+str(k)).set_markersize(0)\n",
    "        #update data of objects lines\n",
    "            \n",
    "        t=t+(eval('line'+str(k)),)\n",
    "        #cmap2 = colors.LinearSegmentedColormap.from_list('my_colormap',['dimgrey','dimgrey','dimgrey'],256)\n",
    "    \n",
    "    return t\n",
    "\n",
    "#eval(name) get variable by string name\n",
    "#vars()[name] set variable by string name"
   ]
  },
  {
   "cell_type": "code",
   "execution_count": null,
   "metadata": {
    "collapsed": false
   },
   "outputs": [],
   "source": [
    "ani = animation.FuncAnimation(fig, animate, nb_steps, blit=True,)\n",
    "ani.save(\"test.mp4\",bitrate=-1,fps=5)\n",
    "print(\"FAIT\")"
   ]
  },
  {
   "cell_type": "markdown",
   "metadata": {},
   "source": [
    "# Evolution du potentiel d'un neurone\n",
    "\n",
    "## Stimulation des entrées (manuellement)"
   ]
  },
  {
   "cell_type": "code",
   "execution_count": null,
   "metadata": {
    "collapsed": false
   },
   "outputs": [],
   "source": [
    "beta=0.40\n",
    "N=3\n",
    "#ini_params(N,Vseuil,Vmax,Vmin,Vmin_ma,tau_min,tau_max,tPA,deltaT,tPH,tH,alpha,nb_steps,beta)\n",
    "modN.ini_params(N,Vseuil,Vmax,Vmin,Vmin_ma,tau_min,tau_max,tPA,deltaT,tPH,tH,alpha,nb_steps,beta)\n",
    "\n",
    "Vt = modN.init_syst_potentiel()\n",
    "Tt = modN.init_syst_state()\n",
    "E = modN.init_syst_phase()\n",
    "lamb = modN.init_syst_lambda()\n",
    "Tar = modN.init_time_rest()\n",
    "C = modN.init_syst_links()\n",
    "\n",
    "res_pot=[]\n",
    "r=[]\n",
    "\n",
    "Vt[0][0]=0\n",
    "Vt[1][1]=0\n",
    "Tt[0][0]=0\n",
    "Tt[1][0]=0\n",
    "E[0][0]=0\n",
    "E[1][0]=0\n",
    "new_p = copy.deepcopy(Vt)\n",
    "new_s = copy.deepcopy(Tt)\n",
    "\n",
    "for k in range(N):\n",
    "    if(k!=0):\n",
    "        C[0][k]=0\n",
    "        C[k][0]=0\n",
    "    if(k!=1):\n",
    "        C[k][1]=0 \n",
    "        C[1][k]=0 \n",
    "    if(k!=2):\n",
    "        C[k][2]=0 \n",
    "        C[2][k]=0\n",
    "        \n",
    "C[0][1]=1\n",
    "C[0][2]=1\n",
    "#set only one entry for the neuron one\n",
    "Cn,Ce,Ci=modN.decompose_syst_links_alcohol(C,np.array([]),np.array([]),np.array([]),0,0)\n",
    "\n",
    "res_pot=[]\n",
    "Lstimu=[]\n",
    "compt=0"
   ]
  },
  {
   "cell_type": "code",
   "execution_count": null,
   "metadata": {
    "collapsed": false
   },
   "outputs": [],
   "source": [
    "#stimu=1 : simulate an entry / stimu=0 no entry for the neuron one\n",
    "stimu1=i\n",
    "stimu2=i\n",
    "\n",
    "\n",
    "if stimu1==1 :\n",
    "    if(new_s[1][0]!=1):\n",
    "        new_p[1][1]=Vseuil\n",
    "        new_s[1][0]=1\n",
    "        E[1][0]=1\n",
    "        lamb[1][0]=1\n",
    "        print(\"neurone 1 : fin de dépolarisation\")\n",
    "        Lstimu.append(compt)\n",
    "\n",
    "if stimu2==1:\n",
    "    if(new_s[2][0]!=1):\n",
    "        new_p[2][2]=Vseuil\n",
    "        new_s[2][0]=1\n",
    "        E[2][0]=1\n",
    "        lamb[2][0]=1\n",
    "        print(\"neurone 2 : fin de dépolarisation\")\n",
    "        Lstimu.append(compt)\n",
    "\n",
    "    \n",
    "if(new_s[0][0]==1):\n",
    "    print(\"dépolarisation\")\n",
    "    for k in range(int(tPA/deltaT)):\n",
    "        new_p, new_s= modN.update_system(new_p, Cn,Ce, new_s, E, lamb, Tar)\n",
    "        res_pot.append(new_p[0][0])\n",
    "        compt+=1\n",
    "else:\n",
    "    new_p, new_s= modN.update_system(new_p, Cn,Ce, new_s, E, lamb, Tar)\n",
    "    res_pot.append(new_p[0][0])\n",
    "    compt+=1\n",
    "    \n",
    "print(\"potentiel neurone 0 : \"+str(new_p[0][0]))\n",
    "\n"
   ]
  },
  {
   "cell_type": "markdown",
   "metadata": {},
   "source": [
    "## Création du graphe"
   ]
  },
  {
   "cell_type": "code",
   "execution_count": null,
   "metadata": {
    "collapsed": false
   },
   "outputs": [],
   "source": [
    "temps=[i for i in range(len(res_pot))]\n",
    "\n",
    "fig=plt.figure(figsize=(10,5))\n",
    "ax = fig.add_subplot(111)\n",
    "ax.set_xlabel(\"Temps (ms)\\n10 ud = \"+str(deltaT*10)+ \" ms\")\n",
    "ax.set_ylabel('Potentiel (mV)')\n",
    "ax.set_ylim([min(Vmin,Vmin_ma)-1 , Vmax+30])\n",
    "\n",
    "line_seuil=plt.axhline(y=Vseuil,color=\"forestgreen\",linestyle=':',label=\"potentiel seuil\")\n",
    "\n",
    "for k in range(len(res_pot)-1):\n",
    "    if(k in Lstimu):\n",
    "        plt.plot([temps[k],temps[k+1]],[res_pot[k],res_pot[k+1]],color='red',marker=\"^\",markerfacecolor=\"darkviolet\",markeredgecolor=\"dimgrey\",markevery=2,markersize=6)\n",
    "    else:\n",
    "        plt.plot([temps[k],temps[k+1]],[res_pot[k],res_pot[k+1]],color='red')\n",
    "\n",
    "\n",
    "marker = mlines.Line2D([], [], color='darkviolet', marker='^', markersize=6,markerfacecolor=\"darkviolet\",markeredgecolor=\"dimgrey\",linestyle='None',label=\"Stimulation d'une ou\\nde plusieurs entrees\")\n",
    "line=mlines.Line2D([], [], color='red',label=\"Courbe simulee\")\n",
    "\n",
    "ax.legend(handles=[line,marker,line_seuil])\n",
    "plt.show()\n",
    "fig.savefig(\"courbe_demo_modelisation_2.pdf\")"
   ]
  },
  {
   "cell_type": "markdown",
   "metadata": {},
   "source": [
    "## Création de l'animation"
   ]
  },
  {
   "cell_type": "code",
   "execution_count": null,
   "metadata": {
    "collapsed": true
   },
   "outputs": [],
   "source": [
    "fig, ax= plt.subplots()\n",
    "\n",
    "marker = mlines.Line2D([], [], color='darkviolet', marker='^', markersize=6,markerfacecolor=\"darkviolet\",markeredgecolor=\"dimgrey\",linestyle='None',label=\"Stimulation d'une ou\\nde plusieurs entrees\")\n",
    "l=mlines.Line2D([], [], color='red',label=\"Courbe simulee\")\n",
    "line_seuil=plt.axhline(y=Vseuil,color=\"forestgreen\",linestyle=':',label=\"potentiel seuil\")\n",
    "\n",
    "ax.legend(handles=[l,marker,line_seuil])\n",
    "\n",
    "\n",
    "line,=ax.plot(0, 0, color='red')\n",
    "line2,=ax.plot(0, 0, color='k')\n",
    "line.axes.axis([0,len(temps)+1,max(Vmin,Vmin_ma)-1 , Vmax+70])\n",
    "line.axes.set_xlabel(\"Temps (ms) 10 ud = \"+str(deltaT*10)+ \" ms\")\n",
    "line.axes.set_ylabel('Potentiel (mV)')\n",
    "temps=[i for i in range(len(res_pot))]\n",
    "\n",
    "\n",
    "def animate(i):\n",
    "    line.set_data(temps[:i],res_pot[:i])\n",
    "    \n",
    "    line2.set_data([temps[i]],[res_pot[i]])\n",
    "    line2.set_marker(\"^\")\n",
    "    line2.set_markerfacecolor(\"darkviolet\")\n",
    "    line2.set_markeredgecolor(\"dimgrey\")\n",
    "    \n",
    "    if(i in Lstimu):\n",
    "        line2.set_markersize(6)\n",
    "    else:\n",
    "        line2.set_markersize(0)\n",
    "    return line,line2,"
   ]
  },
  {
   "cell_type": "code",
   "execution_count": null,
   "metadata": {
    "collapsed": false
   },
   "outputs": [],
   "source": [
    "ani = animation.FuncAnimation(fig, animate,len(res_pot)-2, blit=False,)\n",
    "ani.save(\"test.mp4\",bitrate=-1,fps=5.5)\n",
    "print(\"FAIT\")"
   ]
  },
  {
   "cell_type": "code",
   "execution_count": null,
   "metadata": {
    "collapsed": false
   },
   "outputs": [],
   "source": [
    "mon_fichier = open(\"test.txt\", \"w\")\n",
    "label=\"N= \"+str(N)+\"\\nVseuil= \"+str(Vseuil)+\"\\nVmax= \"+str(Vmax)+\"\\nVmin= \"+str(Vmin)+\"\\nVmin_ma= \"+str(Vmin_ma)\n",
    "label=label+\"\\ntau_min= \"+str(tau_min)+\"\\ntau_max= \"+str(tau_max)+\"\\ntPA= \"+str(tPA)+\"\\ndeltaT= \"+str(deltaT)\n",
    "label=label+\"\\ntPH= \"+str(tPH)+\"\\ntH= \"+str(tH)+\"\\nalpha= \"+str(alpha)+\"\\nbeta= \"+str(beta)+\"\\nnb_steps= \"+str(nb_steps)\n",
    "\n",
    "label=label+\"\\n\\n\"+\"temps= \"+str(temps)+\"\\n\\npotentiel= \"+str(res_pot)+\"\\n\\nstimulation= \"+str(Lstimu)\n",
    "\n",
    "mon_fichier.write(label)\n",
    "mon_fichier.close()\n",
    "print(\"FAIT\")"
   ]
  },
  {
   "cell_type": "markdown",
   "metadata": {},
   "source": [
    "## Stimulation des entrées (manuellement)\n",
    "### Ajout de l'alcool"
   ]
  },
  {
   "cell_type": "code",
   "execution_count": 5,
   "metadata": {
    "collapsed": false
   },
   "outputs": [],
   "source": [
    "def ini_stimu(nb_entree,beta_temp,nb_stimu,time):\n",
    "\n",
    "    N_temp=nb_entree+1\n",
    "    modN.ini_params(N_temp,Vseuil,Vmax,Vmin,Vmin_ma,tau_min,tau_max,tPA,deltaT,tPH,tH,alpha,nb_steps,beta_temp)\n",
    "    \n",
    "    Vt = modN.init_syst_potentiel()\n",
    "    Tt = modN.init_syst_state()\n",
    "    E = modN.init_syst_phase()\n",
    "    lamb = modN.init_syst_lambda()\n",
    "    Tar = modN.init_time_rest()\n",
    "    C = modN.init_syst_links_weights()\n",
    "\n",
    "    \n",
    "    #On étudie le neurone 0, les autres ne sont que ses entrées\n",
    "\n",
    "    for j in range(N_temp):\n",
    "        for i in range(N_temp):\n",
    "            if(i!=j and i!=0):\n",
    "                C[i][j]=0\n",
    "            if(i==0 and C[i][j]==0):\n",
    "                C[i][j]=random.uniform(0.1,1)*(-1)**random.randint(0,1)\n",
    "                \n",
    "    Lstimu_alea=[[]]*time\n",
    "    for k in range(nb_stimu):\n",
    "        index=random.randint(0,time-1)\n",
    "        Lstimu_alea[index]=Lstimu_alea[index]+[random.randint(1,N_temp-1)]\n",
    "\n",
    "    \n",
    "    return (Vt,Tt,E,lamb,Tar,C,Lstimu_alea)\n",
    "\n",
    "\n",
    "def trace_evolution_stimu(Vt,Tt,E,lamb,Tar,Cn,Ce,Ci,Lstimu_alea):\n",
    "    \n",
    "    temps=[]\n",
    "    res_pot=[]\n",
    "    Lstimu=[]\n",
    "\n",
    "    epsilon=0.1\n",
    "    k=0\n",
    "    \n",
    "    new_p = Vt\n",
    "    new_s = Tt\n",
    "    \n",
    "    is_end=False\n",
    "    nb_time_zero=5\n",
    "    compt_end=0\n",
    "    \n",
    "    while (k<len(Lstimu_alea) or compt_end<nb_time_zero):\n",
    "\n",
    "        stimu=False\n",
    "        if(k<len(Lstimu_alea)):\n",
    "            for l in Lstimu_alea[k]:\n",
    "                new_p[l][l]=Vseuil\n",
    "                new_s[l][0]=1\n",
    "                E[l][0]=1\n",
    "                lamb[l][0]=1\n",
    "                stimu=True\n",
    "                \n",
    "            if(stimu):\n",
    "                Lstimu.append(k)\n",
    "            \n",
    "        new_p, new_s= modN.update_system(new_p, Cn,Ce, new_s, E, lamb, Tar)\n",
    "        \n",
    "        res_pot.append(new_p[0][0])\n",
    "        temps.append(k*deltaT)\n",
    "        \n",
    "        if(abs(new_p[0][0])<epsilon):\n",
    "            compt_end+=1\n",
    "        else:\n",
    "            compt_end=0\n",
    "        \n",
    "        \n",
    "        k+=1\n",
    "        \n",
    "    return (temps,res_pot,Lstimu)\n",
    "\n"
   ]
  },
  {
   "cell_type": "code",
   "execution_count": 271,
   "metadata": {
    "collapsed": false
   },
   "outputs": [],
   "source": [
    "Vt,Tt,E,lamb,Tar,C,Lstimu_alea=ini_stimu(nb_entree=20,beta_temp=3,nb_stimu=20,time=200)\n",
    "ca=0\n",
    "Cn,Ce,Ci=modN.decompose_syst_links_alcohol(C,np.array([]),np.array([]),np.array([]),0,ca)\n",
    "temps,res_pot,Lstimu=trace_evolution_stimu(copy.deepcopy(Vt),copy.deepcopy(Tt),copy.deepcopy(E),copy.deepcopy(lamb),copy.deepcopy(Tar),Cn,Ce,Ci,Lstimu_alea)"
   ]
  },
  {
   "cell_type": "code",
   "execution_count": 286,
   "metadata": {
    "collapsed": true
   },
   "outputs": [],
   "source": [
    "ca=1\n",
    "Cn,Ce,Ci=modN.decompose_syst_links_alcohol(C,Cn,Ce,Ci,0,ca)\n",
    "temps,res_pot,Lstimu=trace_evolution_stimu(copy.deepcopy(Vt),copy.deepcopy(Tt),copy.deepcopy(E),copy.deepcopy(lamb),copy.deepcopy(Tar),Cn,Ce,Ci,Lstimu_alea)"
   ]
  },
  {
   "cell_type": "markdown",
   "metadata": {},
   "source": [
    "### Tracer les courbes avec et sans alcool individuellement pour ensuite les réunir"
   ]
  },
  {
   "cell_type": "code",
   "execution_count": 288,
   "metadata": {
    "collapsed": false
   },
   "outputs": [
    {
     "data": {
      "image/png": "[encoded data removed]",
      "text/plain": [
       "<matplotlib.figure.Figure at 0xe128c50>"
      ]
     },
     "metadata": {},
     "output_type": "display_data"
    }
   ],
   "source": [
    "fig=plt.figure(figsize=(10,5))\n",
    "ax = fig.add_subplot(111)\n",
    "ax.set_xlabel(\"Temps (ms)\")\n",
    "ax.set_ylabel('Potentiel (mV)')\n",
    "\n",
    "ax.set_ylim([min(Vmin,Vmin_ma)-5 , Vmax+30])\n",
    "\n",
    "\n",
    "\n",
    "for k in range(len(res_pot)-1):\n",
    "    if(k in Lstimu):\n",
    "        plt.plot([temps[k],temps[k+1]],[res_pot[k],res_pot[k+1]],color='red',marker=\"^\",markerfacecolor=\"darkviolet\",markeredgecolor=\"dimgrey\",markevery=2,markersize=6)\n",
    "    else:\n",
    "        plt.plot([temps[k],temps[k+1]],[res_pot[k],res_pot[k+1]],color='red')\n",
    "\n",
    "\n",
    "marker = mlines.Line2D([], [], marker='^', markersize=6,markerfacecolor=\"darkviolet\",markeredgecolor=\"dimgrey\",linestyle='None',label=\"Excitation\")\n",
    "alcool=l=mlines.Line2D([], [], color='white',label=\"Concentration d'alcool : \"+str(ca))\n",
    "l=mlines.Line2D([], [], color='red',label=\"Courbe simulee\")\n",
    "line_seuil=plt.axhline(y=Vseuil,color=\"forestgreen\",linestyle=':',label=\"potentiel seuil\")\n",
    "\n",
    "ax.legend(handles=[l,marker,line_seuil,alcool])\n",
    "plt.show()\n",
    "fig.savefig(\"test.pdf\")\n",
    "fig.savefig(\"test.png\",bbox_inches='tight')\n",
    "\n",
    "\n"
   ]
  },
  {
   "cell_type": "markdown",
   "metadata": {},
   "source": [
    "### Sauvegarde des données pour les réunir ensuite"
   ]
  },
  {
   "cell_type": "code",
   "execution_count": 289,
   "metadata": {
    "collapsed": false
   },
   "outputs": [
    {
     "name": "stdout",
     "output_type": "stream",
     "text": [
      "FAIT\n"
     ]
    }
   ],
   "source": [
    "mon_fichier = open(\"test.txt\", \"w\")\n",
    "label=\"N= \"+str(len(C))+\"\\nVseuil= \"+str(Vseuil)+\"\\nVmax= \"+str(Vmax)+\"\\nVmin= \"+str(Vmin)+\"\\nVmin_ma= \"+str(Vmin_ma)\n",
    "label=label+\"\\ntau_min= \"+str(tau_min)+\"\\ntau_max= \"+str(tau_max)+\"\\ntPA= \"+str(tPA)+\"\\ndeltaT= \"+str(deltaT)\n",
    "label=label+\"\\ntPH= \"+str(tPH)+\"\\ntH= \"+str(tH)+\"\\nalpha= \"+str(alpha)+\"\\nbeta= \"+str(beta)+\"\\n\\nca= \"+str(ca)\n",
    "\n",
    "label=label+\"\\n\\n\"+\"temps= \"+str(temps)+\"\\n\\npotentiel= \"+str(res_pot)+\"\\n\\nstimulation= \"+str(Lstimu)\n",
    "\n",
    "label=label+\"\\n\\n\\nC= \"+write_matrix(C)+\"\\n\\nCn= \"+write_matrix(Cn)+\"\\n\\nCe= \"+write_matrix(Cn)+\"\\n\\nCi= \"+write_matrix(Cn)\n",
    "\n",
    "\n",
    "mon_fichier.write(label)\n",
    "mon_fichier.close()\n",
    "print(\"FAIT\")"
   ]
  },
  {
   "cell_type": "markdown",
   "metadata": {},
   "source": [
    "### Union des courbes"
   ]
  },
  {
   "cell_type": "code",
   "execution_count": 279,
   "metadata": {
    "collapsed": true
   },
   "outputs": [],
   "source": [
    "Lca=[0,1]\n",
    "Color=[\"forestgreen\",\"crimson\"]\n",
    "#Color=[\"forestgreen\",\"c\",\"darkslateblue\",\"darkorange\",\"crimson\"]\n",
    "\n",
    "temps_sans_alcool= temps= [0.0, 0.1, 0.2, 0.30000000000000004, 0.4, 0.5, 0.6000000000000001, 0.7000000000000001, 0.8, 0.9, 1.0, 1.1, 1.2000000000000002, 1.3, 1.4000000000000001, 1.5, 1.6, 1.7000000000000002, 1.8, 1.9000000000000001, 2.0, 2.1, 2.2, 2.3000000000000003, 2.4000000000000004, 2.5, 2.6, 2.7, 2.8000000000000003, 2.9000000000000004, 3.0, 3.1, 3.2, 3.3000000000000003, 3.4000000000000004, 3.5, 3.6, 3.7, 3.8000000000000003, 3.9000000000000004, 4.0, 4.1000000000000005, 4.2, 4.3, 4.4, 4.5, 4.6000000000000005, 4.7, 4.800000000000001, 4.9, 5.0, 5.1000000000000005, 5.2, 5.300000000000001, 5.4, 5.5, 5.6000000000000005, 5.7, 5.800000000000001, 5.9, 6.0, 6.1000000000000005, 6.2, 6.300000000000001, 6.4, 6.5, 6.6000000000000005, 6.7, 6.800000000000001, 6.9, 7.0, 7.1000000000000005, 7.2, 7.300000000000001, 7.4, 7.5, 7.6000000000000005, 7.7, 7.800000000000001, 7.9, 8.0, 8.1, 8.200000000000001, 8.3, 8.4, 8.5, 8.6, 8.700000000000001, 8.8, 8.9, 9.0, 9.1, 9.200000000000001, 9.3, 9.4, 9.5, 9.600000000000001, 9.700000000000001, 9.8, 9.9, 10.0, 10.100000000000001, 10.200000000000001, 10.3, 10.4, 10.5, 10.600000000000001, 10.700000000000001, 10.8, 10.9, 11.0, 11.100000000000001, 11.200000000000001, 11.3, 11.4, 11.5, 11.600000000000001, 11.700000000000001, 11.8, 11.9, 12.0, 12.100000000000001, 12.200000000000001, 12.3, 12.4, 12.5, 12.600000000000001, 12.700000000000001, 12.8, 12.9, 13.0, 13.100000000000001, 13.200000000000001, 13.3, 13.4, 13.5, 13.600000000000001, 13.700000000000001, 13.8, 13.9, 14.0, 14.100000000000001, 14.200000000000001, 14.3, 14.4, 14.5, 14.600000000000001, 14.700000000000001, 14.8, 14.9, 15.0, 15.100000000000001, 15.200000000000001, 15.3, 15.4, 15.5, 15.600000000000001, 15.700000000000001, 15.8, 15.9, 16.0, 16.1, 16.2, 16.3, 16.400000000000002, 16.5, 16.6, 16.7, 16.8, 16.900000000000002, 17.0, 17.1, 17.2, 17.3, 17.400000000000002, 17.5, 17.6, 17.7, 17.8, 17.900000000000002, 18.0, 18.1, 18.2, 18.3, 18.400000000000002, 18.5, 18.6, 18.7, 18.8, 18.900000000000002, 19.0, 19.1, 19.200000000000003, 19.3, 19.400000000000002, 19.5, 19.6, 19.700000000000003, 19.8, 19.900000000000002, 20.0, 20.1, 20.200000000000003, 20.3, 20.400000000000002, 20.5, 20.6, 20.700000000000003, 20.8, 20.900000000000002, 21.0, 21.1, 21.200000000000003]\n",
    "res_pot_sans_alcool= [0.0, 0.0, 0.0, 0.0, 0.0, 0.0, 0.0, 0.0, 0.0, 0.0, 0.0, 0.0, 0.0, 0.0, 0.0, 0.0, 0.0, 0.0, 0.0, 0.0, 0.0, 0.0, 0.0, 0.0, 0.0, 0.0, 0.0, 1.8905492543463109, 5.2227473791476688, 10.049791822324725, 16.557998164119496, 23.31211898801039, 25.514052646327094, 23.981973600366313, 19.483681746899716, 12.965072717385379, 7.062665237445648, 3.4926118021434394, 1.6022620131230398, 0.70157385549845219, 0.29983991206143246, 0.12671067739512523, 0.053282527700391179, 0.022357276669293578, 0.0093742830510866564, 0.0039268330111675723, 0.0016467471202277154, 0.0006913366770801004, 0.00028909638111849248, 0.00012150286680548708, 5.0276800485279873e-05, 2.0948624345728915e-05, 8.3794424485970884e-06, 4.1897200093485498e-06, -2.4680145235636037, -3.2159633925825064, -20.0, -20.0, -20.0, 4.9331725984230559, 60.0, 73.333333333333329, 86.666666666666657, 99.999999999999986, 113.33333333333331, 120.0, 106.66666666666667, 93.333333333333343, 80.000000000000014, 66.666666666666686, 60.0, 6.9612668079674282, -3.2665158480395085, -3.0569843994012724, -1.3114018917355654, -0.59230127060399607, -0.27276593657313758, -0.12666734202010901, -0.059043358907357582, -20.0, -20.0, -20.0, -20.0, -20.0, -20.0, -20.0, -20.0, -20.0, -2.0451303651271453, -0.90462410223504874, -0.41314240848032024, -0.19115462447838219, -0.08895175253382652, -0.041501260429996849, -1.8175020024153421, -3.2725451422650256, -3.3089044266789212, -2.8394892057937504, -2.838321289051625, -3.3399841271640338, -2.4830487822839906, -1.3064823751324748, 0.3440901529669248, 1.3252013984302164, 0.97178643375333662, 0.41841944710022083, 0.17741663541627226, 0.07471515675892583, -20.0, -20.0, -20.0, -20.0, -20.0, -20.0, -20.0, -20.0, -20.0, -2.0451303651271453, -0.90462410223504874, -0.41314240848032024, -0.19115462447838219, -0.08895175253382652, -0.041501260429996849, -0.019385982756285686, -0.0090627774411444657, -20.0, -20.0, -20.0, -20.0, -20.0, -20.0, -20.0, -20.0, -20.0, -2.0451303651271453, -0.90462410223504874, -0.41314240848032024, 18.426169361689787, 60.0, 73.333333333333329, 86.666666666666657, 99.999999999999986, 113.33333333333331, 120.0, 106.66666666666667, 93.333333333333343, 80.000000000000014, 66.666666666666686, 60.0, 24.393560181474449, -20.0, -20.0, -20.0, -20.0, -20.0, -20.0, -20.0, -20.0, -2.0451303651271453, -2.9556019728444078, -3.1404112980477463, -20.0, -20.0, -20.0, -20.0, -20.0, -20.0, -20.0, -2.0451303651271453, -0.90462410223504874, -0.41314240848032024, -0.19115462447838219, -0.08895175253382652, -0.041501260429996849, -0.019385982756285686, -0.0090627774411444657, -0.0042357027693046868, -0.0019825136941455548, -0.00092584951298742117, -0.00043488028080307232, -20.0, -20.0, -20.0, -20.0, -20.0, -20.0, -20.0, -20.0, -20.0, -2.3159356688886965, -1.7398448064075633, -2.6403754711949663, -3.3547187118342028, -2.4490796386958356, -3.2511064443118523, -20.0, -20.0, -20.0, -20.0, -20.0, -20.0, -20.0, -20.0, -20.0, -2.0451303651271453, -0.90462410223504874, -0.41314240848032024, -0.19115462447838219, -0.08895175253382652, -0.041501260429996849, -0.019385982756285686, -0.0090627774411444657, -0.0042357027693046868]\n",
    "\n",
    "temps_alcool= [0.0, 0.1, 0.2, 0.30000000000000004, 0.4, 0.5, 0.6000000000000001, 0.7000000000000001, 0.8, 0.9, 1.0, 1.1, 1.2000000000000002, 1.3, 1.4000000000000001, 1.5, 1.6, 1.7000000000000002, 1.8, 1.9000000000000001, 2.0, 2.1, 2.2, 2.3000000000000003, 2.4000000000000004, 2.5, 2.6, 2.7, 2.8000000000000003, 2.9000000000000004, 3.0, 3.1, 3.2, 3.3000000000000003, 3.4000000000000004, 3.5, 3.6, 3.7, 3.8000000000000003, 3.9000000000000004, 4.0, 4.1000000000000005, 4.2, 4.3, 4.4, 4.5, 4.6000000000000005, 4.7, 4.800000000000001, 4.9, 5.0, 5.1000000000000005, 5.2, 5.300000000000001, 5.4, 5.5, 5.6000000000000005, 5.7, 5.800000000000001, 5.9, 6.0, 6.1000000000000005, 6.2, 6.300000000000001, 6.4, 6.5, 6.6000000000000005, 6.7, 6.800000000000001, 6.9, 7.0, 7.1000000000000005, 7.2, 7.300000000000001, 7.4, 7.5, 7.6000000000000005, 7.7, 7.800000000000001, 7.9, 8.0, 8.1, 8.200000000000001, 8.3, 8.4, 8.5, 8.6, 8.700000000000001, 8.8, 8.9, 9.0, 9.1, 9.200000000000001, 9.3, 9.4, 9.5, 9.600000000000001, 9.700000000000001, 9.8, 9.9, 10.0, 10.100000000000001, 10.200000000000001, 10.3, 10.4, 10.5, 10.600000000000001, 10.700000000000001, 10.8, 10.9, 11.0, 11.100000000000001, 11.200000000000001, 11.3, 11.4, 11.5, 11.600000000000001, 11.700000000000001, 11.8, 11.9, 12.0, 12.100000000000001, 12.200000000000001, 12.3, 12.4, 12.5, 12.600000000000001, 12.700000000000001, 12.8, 12.9, 13.0, 13.100000000000001, 13.200000000000001, 13.3, 13.4, 13.5, 13.600000000000001, 13.700000000000001, 13.8, 13.9, 14.0, 14.100000000000001, 14.200000000000001, 14.3, 14.4, 14.5, 14.600000000000001, 14.700000000000001, 14.8, 14.9, 15.0, 15.100000000000001, 15.200000000000001, 15.3, 15.4, 15.5, 15.600000000000001, 15.700000000000001, 15.8, 15.9, 16.0, 16.1, 16.2, 16.3, 16.400000000000002, 16.5, 16.6, 16.7, 16.8, 16.900000000000002, 17.0, 17.1, 17.2, 17.3, 17.400000000000002, 17.5, 17.6, 17.7, 17.8, 17.900000000000002, 18.0, 18.1, 18.2, 18.3, 18.400000000000002, 18.5, 18.6, 18.7, 18.8, 18.900000000000002, 19.0, 19.1, 19.200000000000003, 19.3, 19.400000000000002, 19.5, 19.6, 19.700000000000003, 19.8, 19.900000000000002]\n",
    "res_pot_alcool= [0.0, 0.0, 0.0, 0.0, 0.0, 0.0, 0.0, 0.0, 0.0, 0.0, 0.0, 0.0, 0.0, 0.0, 0.0, 0.0, 0.0, 0.0, 0.0, 0.0, 0.0, 0.0, 0.0, 0.0, 0.0, 0.0, 0.0, 1.8905492543463109, 5.2227473791476688, 10.049791822324725, 16.557998164119496, 23.31211898801039, 25.514052646327094, 23.981973600366313, 19.483681746899716, 12.965072717385379, 7.062665237445648, 3.4926118021434394, 1.6022620131230398, 0.70157385549845219, 0.29983991206143246, 0.12671067739512523, 0.053282527700391179, 0.022357276669293578, 0.0093742830510866564, 0.0039268330111675723, 0.0016467471202277154, 0.0006913366770801004, 0.00028909638111849248, 0.00012150286680548708, 5.0276800485279873e-05, 2.0948624345728915e-05, 8.3794424485970884e-06, 4.1897200093485498e-06, -2.4680145235636037, -3.2159633925825064, -20.0, -20.0, -20.0, 4.9331725984230559, 60.0, 73.333333333333329, 86.666666666666657, 99.999999999999986, 113.33333333333331, 120.0, 106.66666666666667, 93.333333333333343, 80.000000000000014, 66.666666666666686, 60.0, 48.333333333333329, 36.666663333333332, 24.999993333333332, 13.333323333333333, 1.6666533333333327, -10.0, -9.0909090909090917, -8.1818190909090909, -7.2727290909090909, -6.363639090909091, -5.454549090909091, -4.5454590909090911, -3.6363690909090911, -2.7272790909090907, -1.8181890909090908, -0.90909909090909091, -9.0909090909585544e-06, 0.0, 0.0, 0.0, 0.0, 0.0, 0.0, 0.0, 0.0, 0.0, 0.0, 0.0, 0.0, 0.0, 0.0, 0.0, 0.0, 0.0, 0.0, 0.0, 0.0, 0.0, 0.0, 0.0, 0.0, 0.0, 0.0, 0.0, 0.0, 0.0, 0.0, 0.0, 0.0, 0.0, 0.0, 0.0, 0.0, 0.0, 0.0, 0.0, 0.0, 0.0, 0.0, 0.0, 0.0, 0.0, 0.0, 0.0, 0.0, 0.0, 0.0, 0.0, 0.0, 0.0, 0.0, 0.0, 0.0, 0.0, 0.0, 0.0, 1.8905492543463109, 5.2227473791476688, 10.049791822324725, 16.557998164119496, 23.31211898801039, 25.514052646327094, 23.981973600366313, 19.483681746899716, 12.965072717385379, 7.062665237445648, 3.4926118021434394, 1.6022620131230398, -1.9803543446210929, -3.2783852589363813, -20.0, -20.0, -20.0, -20.0, -20.0, -20.0, -20.0, -2.0451303651271453, -0.90462410223504874, -0.41314240848032024, -0.19115462447838219, -0.08895175253382652, -0.041501260429996849, -0.019385982756285686, -0.0090627774411444657, -0.0042357027693046868, -0.0019825136941455548, -0.00092584951298742117, -0.00043488028080307232, -0.0002010762255880823, -9.3524370864821594e-05, -4.2086084183954407e-05, -1.8704949999817486e-05, -9.3524797390694382e-06, -4.6762410543241572e-06, 0.0, 0.0, 0.0, 0.0, 0.0, 0.0, 0.0, 0.0, 0.0, 0.0, 0.0, 0.0, 0.0, 0.0]\n",
    "\n",
    "T=[temps_sans_alcool,temps_alcool]\n",
    "R=[res_pot_sans_alcool,res_pot_alcool]"
   ]
  },
  {
   "cell_type": "code",
   "execution_count": null,
   "metadata": {
    "collapsed": true
   },
   "outputs": [],
   "source": []
  },
  {
   "cell_type": "code",
   "execution_count": 290,
   "metadata": {
    "collapsed": false
   },
   "outputs": [
    {
     "data": {
      "image/png": "[encoded data removed]",
      "text/plain": [
       "<matplotlib.figure.Figure at 0xd41dfd0>"
      ]
     },
     "metadata": {},
     "output_type": "display_data"
    }
   ],
   "source": [
    "fig=plt.figure(figsize=(10,5))\n",
    "ax = fig.add_subplot(111)\n",
    "ax.set_xlabel(\"Temps (ms)\")\n",
    "ax.set_ylabel('Potentiel (mV)')\n",
    "\n",
    "ax.set_ylim([min(Vmin,Vmin_ma)-5 , Vmax+30])\n",
    "ax.set_xlim([0,max(len(temps_sans_alcool),len(temps_alcool))*deltaT])\n",
    "\n",
    "for l in range(len(Lca)):\n",
    "    plt.plot(T[l],R[l],color=Color[l])\n",
    "\n",
    "\n",
    "lsansAlcool=mlines.Line2D([], [], color=Color[0],label=\"sans alcool\")\n",
    "lalcool=mlines.Line2D([], [], color=Color[1],label=\"sans alcool (concentration : \"+str(Lca[1])+\")\")\n",
    "line_seuil=plt.axhline(y=Vseuil,color=\"forestgreen\",linestyle=':',label=\"potentiel seuil\")\n",
    "\n",
    "ax.legend(handles=[lsansAlcool,lalcool,line_seuil])\n",
    "plt.show()\n",
    "fig.savefig(\"test.pdf\")\n",
    "fig.savefig(\"test.png\",bbox_inches='tight')\n"
   ]
  },
  {
   "cell_type": "markdown",
   "metadata": {},
   "source": [
    "### Animation"
   ]
  },
  {
   "cell_type": "code",
   "execution_count": 152,
   "metadata": {
    "collapsed": false
   },
   "outputs": [],
   "source": [
    "fig, ax= plt.subplots()\n",
    "plt.plot(temps0,res_pot0,color='forestgreen')\n",
    "\n",
    "ca=0.8\n",
    "\n",
    "marker = mlines.Line2D([], [], marker='^', markersize=6,markerfacecolor=\"darkviolet\",markeredgecolor=\"dimgrey\",linestyle='None',label=\"Excitation\")\n",
    "l=mlines.Line2D([], [], color='red',label=\"avec alcool (concentration : \"+str(ca)+\")\")\n",
    "l2=mlines.Line2D([], [], color='forestgreen',label=\"sans alcool\")\n",
    "line_seuil=plt.axhline(y=Vseuil,color=\"forestgreen\",linestyle=':',label=\"potentiel seuil\")\n",
    "\n",
    "ax.legend(handles=[l,l2,marker,line_seuil])\n",
    "\n",
    "\n",
    "line,=ax.plot(0, 0, color='red')\n",
    "line2,=ax.plot(0, 0, color='k')\n",
    "line.axes.axis([0,len(temps)*deltaT+1,min(Vmin,Vmin_ma)-5 , Vmax+90])\n",
    "line.axes.set_xlabel(\"Temps (ms)\")\n",
    "line.axes.set_ylabel('Potentiel (mV)')\n",
    "\n",
    "def animate(i):\n",
    "    line.set_data(temps[:i],res_pot[:i])\n",
    "    \n",
    "    line2.set_data([temps[i]],[res_pot[i]])\n",
    "    line2.set_marker(\"^\")\n",
    "    line2.set_markerfacecolor(\"darkviolet\")\n",
    "    line2.set_markeredgecolor(\"dimgrey\")\n",
    "    \n",
    "    if(i in Lstimu):\n",
    "        line2.set_markersize(6)\n",
    "    else:\n",
    "        line2.set_markersize(0)\n",
    "    return line,line2,"
   ]
  },
  {
   "cell_type": "code",
   "execution_count": 153,
   "metadata": {
    "collapsed": false
   },
   "outputs": [
    {
     "name": "stdout",
     "output_type": "stream",
     "text": [
      "FAIT\n"
     ]
    }
   ],
   "source": [
    "ani = animation.FuncAnimation(fig, animate,len(res_pot)-2, blit=False,)\n",
    "ani.save(\"test.mp4\",bitrate=-1,fps=5.5)\n",
    "print(\"FAIT\")"
   ]
  },
  {
   "cell_type": "code",
   "execution_count": null,
   "metadata": {
    "collapsed": false
   },
   "outputs": [],
   "source": []
  }
 ],
 "metadata": {
  "kernelspec": {
   "display_name": "Python 2",
   "language": "python",
   "name": "python2"
  },
  "language_info": {
   "codemirror_mode": {
    "name": "ipython",
    "version": 2
   },
   "file_extension": ".py",
   "mimetype": "text/x-python",
   "name": "python",
   "nbconvert_exporter": "python",
   "pygments_lexer": "ipython2",
   "version": "2.7.13"
  }
 },
 "nbformat": 4,
 "nbformat_minor": 2
}
