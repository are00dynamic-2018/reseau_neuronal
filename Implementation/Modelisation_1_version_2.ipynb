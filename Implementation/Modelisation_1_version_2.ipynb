{
 "cells": [
  {
   "cell_type": "code",
   "execution_count": 22,
   "metadata": {
    "collapsed": true
   },
   "outputs": [],
   "source": [
    "import numpy as np\n",
    "import copy\n",
    "import random\n",
    "import matplotlib.pyplot as plt\n",
    "import matplotlib.animation as animation\n",
    "import math\n",
    "\n",
    "N = 100 #number of neurons\n",
    "seuil = 60 #the threshold of activation of neuron, in mV, global variable, used in functions\n",
    "Vmax = 120\n",
    "Vmin=-10\n",
    "nb_steps = 100 #number of simulation\n",
    "beta=0.55 #beta*Vmax"
   ]
  },
  {
   "cell_type": "code",
   "execution_count": 2,
   "metadata": {
    "collapsed": true
   },
   "outputs": [],
   "source": [
    "def init_syst_links():\n",
    "    \"\"\"Create a matrix of 2 dimensions which shows the connections between neurons in the system.\n",
    "    Initiated randomly and stay the same always. (a transpose matrix of the regular matrix)\n",
    "    syst_links[i][j] = 1: j connects and can send signal to i, not in reverse\n",
    "    syst_links[i][j] = 0: j doesnt connect to i\n",
    "    syst_links[i][i] = k: the decrease factor of potential of the neuron i\"\"\"\n",
    "    syst_links = np.random.rand(N,N)\n",
    "    for i in range(N):\n",
    "        for j in range(N):\n",
    "            if i != j:\n",
    "                syst_links[i][j] = random.choice([0.0, 1.0])*(-1)**random.randint(0,1)\n",
    "            else:\n",
    "                syst_links[i][j] = random.uniform(0.9,0.95)\n",
    "    syst_links.transpose()\n",
    "    return syst_links"
   ]
  },
  {
   "cell_type": "code",
   "execution_count": 3,
   "metadata": {
    "collapsed": true
   },
   "outputs": [],
   "source": [
    "def init_syst_potentiel():\n",
    "    \"\"\"Create a matrix of 2D which shows the potential of each neuron at time t of the simulation.\n",
    "    Initiated randomly.\n",
    "    syst_potentiel[i][j] = 0 for every i != j;\n",
    "    syst_potentiel[i][i] = value of potential of neuron i\"\"\"\n",
    "\n",
    "    syst_potentiel = np.zeros((N,N))\n",
    "    return syst_potentiel"
   ]
  },
  {
   "cell_type": "code",
   "execution_count": 4,
   "metadata": {
    "collapsed": true
   },
   "outputs": [],
   "source": [
    "def init_syst_state():\n",
    "    \"\"\"Create a matrix of size(nb_neuron,1) which shows the state of activation of a neuron.\n",
    "    Initiated randomly.\n",
    "    syst_act[i][0] = 0: neuron i isnt activated, it cant send signal to others\n",
    "    syst_act[i][0] = 1: neuron i is activated and can send signal to others\n",
    "    When the potential of a neuron i passes the threshold, syst_act[i][0] = 1 at the next step\n",
    "    After release all its potential, syst_act[i][0] = 0 at the next step\"\"\"\n",
    "\n",
    "    syst_state = np.ones((N,1))\n",
    "    return syst_state"
   ]
  },
  {
   "cell_type": "code",
   "execution_count": 5,
   "metadata": {
    "collapsed": false
   },
   "outputs": [],
   "source": [
    "def matrix_Ni(i,coeff_Tt):\n",
    "    \"\"\"Create a matrix 2D which helps keeping the potential of each neuron of the previous step to the next step\n",
    "    Size: (nb_neuron,1)\n",
    "    Only the i of the neuron in current execution is set to 1. All the others elements are 0.\"\"\"\n",
    "\n",
    "    matrix_Ni = np.zeros((N,1))\n",
    "    if(coeff_Tt==0):\n",
    "        matrix_Ni[i][0] = 1   \n",
    "    else :\n",
    "        matrix_Ni[i][0] = -1\n",
    "    return matrix_Ni"
   ]
  },
  {
   "cell_type": "code",
   "execution_count": 6,
   "metadata": {
    "collapsed": false
   },
   "outputs": [],
   "source": [
    "def func_act(val_poten):\n",
    "    \"\"\"float => float\n",
    "    If the potential of a neuron is superior than the threshold, it's activated.\n",
    "    When a neuron is activated, its potential increase immediately to Vmax\"\"\"\n",
    "    if val_poten < Vmin:\n",
    "        return 0\n",
    "    elif val_poten < seuil:\n",
    "        return val_poten\n",
    "    else :\n",
    "        return beta*Vmax"
   ]
  },
  {
   "cell_type": "code",
   "execution_count": 7,
   "metadata": {
    "collapsed": true
   },
   "outputs": [],
   "source": [
    "def start_syst(syst_potentiel, syst_state):\n",
    "    \"\"\"Send in the information in form electric ranged between 0 and Vmax (mV)\n",
    "     to kick off the system.\n",
    "     Return a matrix of the potentials of the system and a matrix of the neurons' states\"\"\"\n",
    "\n",
    "    kicked_off = syst_potentiel\n",
    "    state_chaged = syst_state\n",
    "    for i in range(N):\n",
    "        kicked_off[i][i] = func_act(syst_potentiel[i][i] + random.uniform(0, Vmax))\n",
    "        if kicked_off[i][i] >= seuil:\n",
    "            state_chaged[i][0] = 1\n",
    "        else:\n",
    "            state_chaged[i][0] = 0\n",
    "    return (kicked_off, state_chaged)"
   ]
  },
  {
   "cell_type": "code",
   "execution_count": 8,
   "metadata": {
    "collapsed": false
   },
   "outputs": [],
   "source": [
    "def update_system(syst_potentiel, syst_links, syst_state):\n",
    "    \"\"\"matrix(N,N) * matrix(N,N) * matrix(N,1) -> tuple(matrix(N,N), matrix(N,1))\n",
    "    Calculate the potentials of all the neurons at the time t+1 and also update theirs state at time t+1 (activated or not)\n",
    "    All neurons will be update simultaneously.\n",
    "    Return the potentials and their states of the whole system in form matrix.\"\"\"\n",
    "    new_syst_potentiel = copy.deepcopy(syst_potentiel)\n",
    "    new_syst_state = copy.deepcopy(syst_state)\n",
    "    var = 0 #variable temporary\n",
    "    for i in range(N):\n",
    "        #print((-1) ** syst_state[i][0])\n",
    "        var = np.dot(syst_links[i], np.dot(syst_potentiel, syst_state + matrix_Ni(i,syst_state[i][0])))[0]\n",
    "        var = func_act(var)\n",
    "        if var == beta*Vmax:\n",
    "            new_syst_state[i][0] = 1\n",
    "        else:\n",
    "            new_syst_state[i][0] = 0\n",
    "        \n",
    "        new_syst_potentiel[i][i] = var\n",
    "\n",
    "    return (new_syst_potentiel, new_syst_state)"
   ]
  },
  {
   "cell_type": "code",
   "execution_count": 9,
   "metadata": {
    "collapsed": true
   },
   "outputs": [],
   "source": [
    "def non_transmittable(syst_state):\n",
    "    \"\"\"Verify if there is no neuron that can transmit signal to others\n",
    "    return a bool\"\"\"\n",
    "    res = True\n",
    "    for i in range(N):\n",
    "        if syst_state[i][0] == 1:\n",
    "            res = False\n",
    "            break\n",
    "    return res"
   ]
  },
  {
   "cell_type": "code",
   "execution_count": 10,
   "metadata": {
    "collapsed": false
   },
   "outputs": [],
   "source": [
    "def simulation(syst_potentiel, syst_links, syst_state, nb_steps):\n",
    "    \"\"\"Return a list of all the matrixes, each matrix shows the potentials of the system\n",
    "    at moment t\"\"\"\n",
    "    #res: list[matrix(N,N)]\n",
    "    #res_graph[matrix(N,N)] pour l'affichage graphique des états de la matrice Tt\n",
    "    res_potentials = []\n",
    "    res_states=[]\n",
    "    \n",
    "    new_p = syst_potentiel\n",
    "    res_potentials.append(copy.deepcopy(new_p))\n",
    "    new_s = syst_state\n",
    "    res_states.append(copy.deepcopy(new_s))\n",
    "    \n",
    "    for i in range(nb_steps):\n",
    "        new_p, new_s = update_system(new_p, syst_links, new_s)\n",
    "        #if non_transmittable(new_s):\n",
    "           # new_p, new_s = start_syst(new_p, new_s)\n",
    "        #else:\n",
    "            #new_p, new_s = update_system(new_p, syst_links, new_s)\n",
    "            \n",
    "        res_potentials.append(copy.deepcopy(new_p))\n",
    "        res_states.append(copy.deepcopy(new_s))\n",
    "    \n",
    "    return res_potentials,res_states"
   ]
  },
  {
   "cell_type": "code",
   "execution_count": 11,
   "metadata": {
    "collapsed": false
   },
   "outputs": [],
   "source": [
    "####Start the program\n",
    "\n",
    "Vt = init_syst_potentiel()\n",
    "C = init_syst_links()\n",
    "Tt = init_syst_state()\n",
    "Vt, Tt = start_syst(Vt, Tt)"
   ]
  },
  {
   "cell_type": "code",
   "execution_count": 12,
   "metadata": {
    "collapsed": false
   },
   "outputs": [],
   "source": [
    "res_potentials,res_states=simulation(Vt,C,Tt,nb_steps)"
   ]
  },
  {
   "cell_type": "code",
   "execution_count": 17,
   "metadata": {
    "collapsed": false
   },
   "outputs": [],
   "source": [
    "def trace_state(resultat_states,color,fig_size=(10,10),markersize=2,v_space=0):\n",
    "    '''return a figure of the evolution of the state of each neuron in the network throught time\n",
    "        resultat_states : a list that contains the states of neurons\n",
    "        color : color of the plot\n",
    "        fig_size : tuple that contain size of the plot \n",
    "        markersize : size of the marker in the plot\n",
    "        v_space : the vertical space (on the vertical axis) between neuron'''\n",
    "    \n",
    "    fig=plt.figure(figsize=fig_size)\n",
    "\n",
    "    for j in range(len(resultat_states)):\n",
    "        for i  in range(len(resultat_states[j])):\n",
    "            if(resultat_states[j][i][0]==1):\n",
    "                plt.plot(j,i+v_space,marker='o',color=color,markersize=markersize)\n",
    "    return fig"
   ]
  },
  {
   "cell_type": "code",
   "execution_count": 14,
   "metadata": {
    "collapsed": true
   },
   "outputs": [],
   "source": [
    "def trace_potential(resultat_potentials,resultat_states,color,fig_size=(10,10),linewidth=1):\n",
    "    '''return a figure of the evolution of the potential of the network throught time\n",
    "        resultat_potentials : a list that contains the potentials of neurons\n",
    "        resultat_states : a list that contains the sate of neurons\n",
    "        color : color of the plot\n",
    "        fig_size : tuple that contain size of the plot \n",
    "        linewidth : size of line in the plot'''\n",
    "    \n",
    "    fig=plt.figure(figsize=fig_size)\n",
    "    \n",
    "    Lx=[]\n",
    "    Ly=[]\n",
    "\n",
    "    for j in range(len(resultat_potentials)):\n",
    "        S=0 #Sum of the potentiel at a specific time, in fact the time j*delta_t\n",
    "        Lx.append(j)\n",
    "        for i  in range(len(resultat_potentials[j])):\n",
    "            if(resultat_states[j][i][0]==1):\n",
    "                S=S+resultat_potentials[j][i][i] #the potential of the neuron i is on the diagonal (matrix index (i,i)) of the matrix res_graphique[j]\n",
    "        \n",
    "        Ly.append(S)\n",
    "        \n",
    "    plt.plot(Lx,Ly,color=color, linewidth=linewidth)\n",
    "        \n",
    "    return fig"
   ]
  },
  {
   "cell_type": "code",
   "execution_count": 16,
   "metadata": {
    "collapsed": false
   },
   "outputs": [
    {
     "data": {
      "image/png": "[encoded data removed]",
      "text/plain": [
       "<matplotlib.figure.Figure at 0x9afc550>"
      ]
     },
     "execution_count": 16,
     "metadata": {},
     "output_type": "execute_result"
    }
   ],
   "source": [
    "fig=trace_state(res_states,'black',fig_size=(10,10),markersize=2,v_space=0)\n",
    "fig.savefig(\"test.pdf\")\n",
    "fig #show the figure"
   ]
  },
  {
   "cell_type": "code",
   "execution_count": 18,
   "metadata": {
    "collapsed": false,
    "scrolled": false
   },
   "outputs": [
    {
     "data": {
      "image/png": "[encoded data removed]",
      "text/plain": [
       "<matplotlib.figure.Figure at 0x156c1630>"
      ]
     },
     "execution_count": 18,
     "metadata": {},
     "output_type": "execute_result"
    }
   ],
   "source": [
    "fig=trace_potential(res_potentials,res_states,'black',fig_size=(10,10),linewidth=0.2)\n",
    "fig.savefig(\"test.pdf\")\n",
    "fig #show the figure"
   ]
  }
 ],
 "metadata": {
  "kernelspec": {
   "display_name": "Python 2",
   "language": "python",
   "name": "python2"
  },
  "language_info": {
   "codemirror_mode": {
    "name": "ipython",
    "version": 2
   },
   "file_extension": ".py",
   "mimetype": "text/x-python",
   "name": "python",
   "nbconvert_exporter": "python",
   "pygments_lexer": "ipython2",
   "version": "2.7.13"
  }
 },
 "nbformat": 4,
 "nbformat_minor": 2
}
